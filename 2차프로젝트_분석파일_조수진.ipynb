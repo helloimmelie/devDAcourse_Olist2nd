{
 "cells": [
  {
   "cell_type": "code",
   "execution_count": 1,
   "id": "f59fc621-0457-409c-8a0f-bde42b5689df",
   "metadata": {
    "canvas": {
     "comments": [],
     "componentType": "CodeCell",
     "copiedOriginId": null,
     "diskcache": false,
     "headerColor": "transparent",
     "id": "0fc80ff1-a140-402e-b767-eac360c4fb7e",
     "isComponent": false,
     "name": "",
     "parents": []
    },
    "tags": []
   },
   "outputs": [],
   "source": [
    "import pandas as pd "
   ]
  },
  {
   "cell_type": "code",
   "execution_count": 2,
   "id": "25b806aa-d8f0-42c3-8a02-333124535efd",
   "metadata": {
    "canvas": {
     "comments": [],
     "componentType": "CodeCell",
     "copiedOriginId": null,
     "diskcache": false,
     "headerColor": "transparent",
     "id": "926068ce-18a1-4128-82d6-6edf5cb38c1e",
     "isComponent": false,
     "name": "",
     "parents": []
    }
   },
   "outputs": [],
   "source": [
    "import matplotlib.pyplot as plt\n",
    "import numpy as np\n",
    "import seaborn as sns"
   ]
  },
  {
   "cell_type": "markdown",
   "id": "03482ca7-ed2c-450f-a0ca-6f39bc9d36b8",
   "metadata": {
    "canvas": {
     "comments": [],
     "componentType": "CodeCell",
     "copiedOriginId": null,
     "diskcache": false,
     "headerColor": "transparent",
     "id": "4f3b2723-7d98-4341-a3ff-739c744ad335",
     "isComponent": false,
     "name": "",
     "parents": []
    }
   },
   "source": [
    "### 매출 데이터셋 로드 "
   ]
  },
  {
   "cell_type": "code",
   "execution_count": 3,
   "id": "ebdf7769-7b71-4760-8f49-e1ec69b098e5",
   "metadata": {
    "canvas": {
     "comments": [],
     "componentType": "CodeCell",
     "copiedOriginId": null,
     "diskcache": false,
     "headerColor": "transparent",
     "id": "e61c0115-5a1b-4958-a13b-0f44d02c4947",
     "isComponent": false,
     "name": "",
     "parents": []
    }
   },
   "outputs": [],
   "source": [
    "closedDeals = pd.read_csv('./datasets/Funnel/olist_closed_deals_dataset.csv', encoding='cp949')\n",
    "qualifiedLeads = pd.read_csv('./datasets/Funnel/olist_marketing_qualified_leads_dataset.csv', encoding='cp949')"
   ]
  },
  {
   "cell_type": "code",
   "execution_count": 4,
   "id": "fd6011f2-edd1-4d86-ab73-e07fdebe9835",
   "metadata": {
    "canvas": {
     "comments": [],
     "componentType": "CodeCell",
     "copiedOriginId": null,
     "diskcache": false,
     "headerColor": "transparent",
     "id": "1dad9380-cd9a-4032-943e-f3c55aacb852",
     "isComponent": false,
     "name": "",
     "parents": []
    },
    "tags": []
   },
   "outputs": [],
   "source": [
    "ordersItemDataSet = pd.read_csv('./datasets/Org/olist_order_items_dataset.csv', encoding='cp949')\n",
    "ordersDataSet = pd.read_csv('./datasets/Org/olist_orders_dataset.csv', encoding='cp949')\n",
    "paymentsDataSet = pd.read_csv('./datasets/Org/olist_order_payments_dataset.csv', encoding='cp949')\n",
    "sellersDataSet = pd.read_csv('./datasets/Org/olist_sellers_dataset.csv', encoding='UTF8')\n",
    "productsDataSet = pd.read_csv('./datasets/Org/olist_products_dataset.csv', encoding = 'cp949')\n",
    "cateTranslateDataSet = pd.read_csv('./datasets/Org/product_category_name_translation.csv', encoding = 'cp949')"
   ]
  },
  {
   "cell_type": "code",
   "execution_count": 5,
   "id": "f5664dd3-9e29-49e4-94a1-be02ec90f09f",
   "metadata": {
    "canvas": {
     "comments": [],
     "componentType": "CodeCell",
     "copiedOriginId": null,
     "diskcache": false,
     "headerColor": "transparent",
     "id": "0f264f9f-20a6-48fe-ac22-2c6d1cacb62b",
     "isComponent": false,
     "name": "",
     "parents": []
    },
    "tags": []
   },
   "outputs": [],
   "source": [
    "cateTranslateDataSet.columns = ['product_category_name','product_category_name_english']"
   ]
  },
  {
   "cell_type": "code",
   "execution_count": 6,
   "id": "38960451-6df5-46e6-9017-e013c4d61001",
   "metadata": {
    "canvas": {
     "comments": [],
     "componentType": "CodeCell",
     "copiedOriginId": null,
     "diskcache": false,
     "headerColor": "transparent",
     "id": "ed74a23a-ebdb-4799-9b29-f312d582659a",
     "isComponent": false,
     "name": "",
     "parents": []
    },
    "tags": []
   },
   "outputs": [],
   "source": [
    "ordersDataSet['order_approved_at_yearMonth'] = pd.to_datetime(ordersDataSet['order_approved_at']).dt.strftime('%Y-%m') "
   ]
  },
  {
   "cell_type": "code",
   "execution_count": 7,
   "id": "75917fcf-7b0d-47d9-ba4a-1bb5b4dfd8ac",
   "metadata": {
    "canvas": {
     "comments": [],
     "componentType": "CodeCell",
     "copiedOriginId": null,
     "diskcache": false,
     "headerColor": "transparent",
     "id": "38565fd8-a3b5-469f-b0e7-2fba41317a8a",
     "isComponent": false,
     "name": "",
     "parents": []
    },
    "tags": []
   },
   "outputs": [],
   "source": [
    "#checkContact = pd.merge(qualifiedLeads, closedDealsWonDate, how = 'left', on ='mql_id')\n",
    "paymentOrders = pd.merge(ordersDataSet, paymentsDataSet, how = 'left', on ='order_id')\n",
    "#monthly_sales =\n",
    "monthly_sales = paymentOrders.groupby('order_approved_at_yearMonth')['payment_value'].sum().reset_index()"
   ]
  },
  {
   "cell_type": "code",
   "execution_count": 8,
   "id": "7e0605c8-3bf3-450c-8062-e0ae5a0e062b",
   "metadata": {
    "canvas": {
     "comments": [],
     "componentType": "CodeCell",
     "copiedOriginId": null,
     "diskcache": false,
     "headerColor": "transparent",
     "id": "14677612-c0ec-4b04-af4b-750c1f7077c6",
     "isComponent": false,
     "name": "",
     "parents": []
    },
    "tags": []
   },
   "outputs": [],
   "source": [
    "ordersItemDataSet.head()\n",
    "itemsDataSet = pd.merge(ordersItemDataSet, productsDataSet, how = 'left', on ='product_id')[['order_id','product_id','seller_id','product_category_name']]\n",
    "firstPaymentDataSet = pd.merge(itemsDataSet, paymentOrders, how = 'left', on ='order_id')[['order_id','product_id','seller_id','product_category_name','payment_value','order_purchase_timestamp']]\n"
   ]
  },
  {
   "cell_type": "code",
   "execution_count": 9,
   "id": "92aaf6ed-900b-40bd-955e-85b035f223be",
   "metadata": {
    "canvas": {
     "comments": [],
     "componentType": "CodeCell",
     "copiedOriginId": null,
     "diskcache": false,
     "headerColor": "transparent",
     "id": "65e5e5ff-28fe-48cc-8ac2-4ba6ef4f72fa",
     "isComponent": false,
     "name": "",
     "parents": []
    },
    "tags": []
   },
   "outputs": [],
   "source": [
    "secondPaymentDataSet = pd.merge(firstPaymentDataSet, cateTranslateDataSet, how = 'left', on ='product_category_name')"
   ]
  },
  {
   "cell_type": "code",
   "execution_count": 10,
   "id": "c67f236d-6716-4225-93cb-97b9d6f00e71",
   "metadata": {
    "canvas": {
     "comments": [],
     "componentType": "CodeCell",
     "copiedOriginId": null,
     "diskcache": false,
     "headerColor": "transparent",
     "id": "f7d526b7-b58b-4a2a-b771-b0ea1ee0b732",
     "isComponent": false,
     "name": "",
     "parents": []
    },
    "tags": []
   },
   "outputs": [],
   "source": [
    "cateTranslateDataSet.columns = ['product_category_name','product_category_name_english']\n"
   ]
  },
  {
   "cell_type": "code",
   "execution_count": 11,
   "id": "7f203df9-d476-453a-92f9-5a0b3e56a868",
   "metadata": {
    "canvas": {
     "comments": [],
     "componentType": "CodeCell",
     "copiedOriginId": null,
     "diskcache": false,
     "headerColor": "transparent",
     "id": "cb504351-f50b-4739-b71a-d63a2a9d140d",
     "isComponent": false,
     "name": "",
     "parents": []
    },
    "tags": []
   },
   "outputs": [],
   "source": [
    "secondPaymentDataSet.head()\n",
    "secondPaymentDataSet = pd.merge(firstPaymentDataSet, cateTranslateDataSet, how = 'left', on ='product_category_name')\n",
    "secondPaymentDataSet['order_purchase_timestamp_month'] = pd.to_datetime(ordersDataSet['order_approved_at']).dt.strftime('%Y-%m') "
   ]
  },
  {
   "cell_type": "code",
   "execution_count": 12,
   "id": "fb8d4bf6-bc66-4602-86b4-4dc025157203",
   "metadata": {
    "canvas": {
     "comments": [],
     "componentType": "CodeCell",
     "copiedOriginId": null,
     "diskcache": false,
     "headerColor": "transparent",
     "id": "400ba091-689b-47e4-87ab-7ceb11f004e9",
     "isComponent": false,
     "name": "",
     "parents": []
    },
    "tags": []
   },
   "outputs": [],
   "source": [
    "#minmax 걸고, 그 다음에 sellerid 테이블을 기준으로 걸면 될듯 \n",
    "secondPaymentDataSet.head()\n",
    "productCategoryTable = secondPaymentDataSet.groupby(['seller_id','product_category_name']).agg({'order_purchase_timestamp':['min','max']}).reset_index()"
   ]
  },
  {
   "cell_type": "code",
   "execution_count": 13,
   "id": "4f04fd3f-2136-49b2-8c0c-19f070f4499b",
   "metadata": {
    "canvas": {
     "comments": [],
     "componentType": "CodeCell",
     "copiedOriginId": null,
     "diskcache": false,
     "headerColor": "transparent",
     "id": "bded88f3-c15e-4ce4-8ee1-fed5d063089a",
     "isComponent": false,
     "name": "",
     "parents": []
    },
    "tags": []
   },
   "outputs": [],
   "source": [
    "categorySales = secondPaymentDataSet.groupby(['product_category_name_english','order_purchase_timestamp']).sum('payment_value').reset_index()\n",
    "categorySales.columns = ['카테고리명','년-월', '총구매금액']"
   ]
  },
  {
   "cell_type": "code",
   "execution_count": 14,
   "id": "f271ef2d-3119-49e8-9234-f55ebe6c16d7",
   "metadata": {
    "canvas": {
     "comments": [],
     "componentType": "CodeCell",
     "copiedOriginId": null,
     "diskcache": false,
     "headerColor": "transparent",
     "id": "a810f5df-b80c-49e7-8a2c-7578818bc000",
     "isComponent": false,
     "name": "",
     "parents": []
    },
    "tags": []
   },
   "outputs": [],
   "source": [
    "plt.rcParams['axes.unicode_minus'] = False\n",
    "plt.rcParams['font.family'] = 'Malgun Gothic'  # Windows의 경우"
   ]
  },
  {
   "cell_type": "markdown",
   "id": "ae240a73-2ee2-41d8-b01d-61a15d367e8d",
   "metadata": {
    "canvas": {
     "comments": [],
     "componentType": "CodeCell",
     "copiedOriginId": null,
     "diskcache": false,
     "headerColor": "transparent",
     "id": "aa565ef2-fea3-4a1f-b7b2-ac1c2f6bc473",
     "isComponent": false,
     "name": "",
     "parents": []
    }
   },
   "source": [
    "## 분기/월 별로 전환율이 어떻게 되는지 "
   ]
  },
  {
   "cell_type": "markdown",
   "id": "eff0dffd-e43a-4af8-9940-9da4590f12e4",
   "metadata": {
    "canvas": {
     "comments": [],
     "componentType": "CodeCell",
     "copiedOriginId": null,
     "diskcache": false,
     "headerColor": "transparent",
     "id": "f39fe399-c4ea-4423-8375-50ed05c9eee8",
     "isComponent": false,
     "name": "",
     "parents": []
    }
   },
   "source": [
    "### 계약 체결 여부 확인 "
   ]
  },
  {
   "cell_type": "markdown",
   "id": "426e20e1-4af5-4923-8244-cb568a87f951",
   "metadata": {
    "canvas": {
     "comments": [],
     "componentType": "CodeCell",
     "copiedOriginId": null,
     "diskcache": false,
     "headerColor": "transparent",
     "id": "d109ccb0-50cd-47ec-ab79-b0308bd46db5",
     "isComponent": false,
     "name": "",
     "parents": []
    }
   },
   "source": [
    "그 전에 계약한 리드와 세부 정보를 확인하기 위해 조인 함 "
   ]
  },
  {
   "cell_type": "code",
   "execution_count": 15,
   "id": "9f40885b-32fd-42da-8bda-82398f390cb5",
   "metadata": {
    "canvas": {
     "comments": [],
     "componentType": "CodeCell",
     "copiedOriginId": null,
     "diskcache": false,
     "headerColor": "transparent",
     "id": "cf7d0e23-b002-4445-ada6-e54554f688e5",
     "isComponent": false,
     "name": "",
     "parents": []
    }
   },
   "outputs": [],
   "source": [
    "closedDealsWonDate = closedDeals[['mql_id','won_date','business_segment', 'lead_behaviour_profile', 'declared_monthly_revenue', 'declared_product_catalog_size', 'business_type', 'average_stock','has_gtin','has_company','lead_type']]\n",
    "checkContact = pd.merge(qualifiedLeads, closedDealsWonDate, how = 'left', on ='mql_id')"
   ]
  },
  {
   "cell_type": "markdown",
   "id": "a9eb65ee-8b97-450d-b95a-d901a57e6240",
   "metadata": {
    "canvas": {
     "comments": [],
     "componentType": "CodeCell",
     "copiedOriginId": null,
     "diskcache": false,
     "headerColor": "transparent",
     "id": "03673f87-011d-4695-be59-aafd2fc08830",
     "isComponent": false,
     "name": "",
     "parents": []
    }
   },
   "source": [
    "데이터 전처리 - 'won_date'가 NULL이면 'N', 'won_date'가 NULL이 아니면 'Y'임 "
   ]
  },
  {
   "cell_type": "code",
   "execution_count": 16,
   "id": "3a7d1bca-436e-44c8-8d64-2a8e9426ab71",
   "metadata": {
    "canvas": {
     "comments": [],
     "componentType": "CodeCell",
     "copiedOriginId": null,
     "diskcache": false,
     "headerColor": "transparent",
     "id": "02053117-0ab2-4ec3-a854-da36cdfda93d",
     "isComponent": false,
     "name": "",
     "parents": []
    }
   },
   "outputs": [],
   "source": [
    "checkContact.loc[checkContact['won_date'].notna(),'wonYN'] = 'Y'\n",
    "checkContact.loc[checkContact['won_date'].isna(),'wonYN'] = 'N'"
   ]
  },
  {
   "cell_type": "markdown",
   "id": "aa51e1a3-23fe-476b-988c-42103d87633d",
   "metadata": {
    "canvas": {
     "comments": [],
     "componentType": "CodeCell",
     "copiedOriginId": null,
     "diskcache": false,
     "headerColor": "transparent",
     "id": "f9236073-af0c-484a-bed0-969ccf713f78",
     "isComponent": false,
     "name": "",
     "parents": []
    }
   },
   "source": [
    "데이터 전처리 - 날짜 column들이 object 자료형이면, 기간 관련 연산이 되지 않아서 날짜 타입으로 타입캐스팅을 진행하였음 "
   ]
  },
  {
   "cell_type": "code",
   "execution_count": 17,
   "id": "f2099d64-01aa-451f-8a9d-012c5595bb55",
   "metadata": {
    "canvas": {
     "comments": [],
     "componentType": "CodeCell",
     "copiedOriginId": null,
     "diskcache": false,
     "headerColor": "transparent",
     "id": "06546a8d-8875-4824-a65a-2c3a8146c004",
     "isComponent": false,
     "name": "",
     "parents": []
    }
   },
   "outputs": [],
   "source": [
    "checkContact['won_date'] = checkContact['won_date'].fillna(pd.Timestamp('1970-01-01 01:00'))\n",
    "checkContact['won_date'] = pd.to_datetime(checkContact['won_date']).dt.date\n",
    "checkContact['won_date'] = pd.to_datetime(checkContact['won_date'] )\n",
    "checkContact['year-month'] = checkContact['won_date'].dt.strftime('%Y-%m') "
   ]
  },
  {
   "cell_type": "markdown",
   "id": "c5462765-aa1b-488b-8f59-52b9ea157cd3",
   "metadata": {
    "canvas": {
     "comments": [],
     "componentType": "CodeCell",
     "copiedOriginId": null,
     "diskcache": false,
     "headerColor": "transparent",
     "id": "fce8c01c-6980-49c6-9034-8446b1657202",
     "isComponent": false,
     "name": "",
     "parents": []
    }
   },
   "source": [
    "전환율 계산(전환한 기업 수 계산)"
   ]
  },
  {
   "cell_type": "code",
   "execution_count": 18,
   "id": "0f6bab9d-83ca-419d-9079-e11d921bc3d8",
   "metadata": {
    "canvas": {
     "comments": [],
     "componentType": "CodeCell",
     "copiedOriginId": null,
     "diskcache": false,
     "headerColor": "transparent",
     "id": "d64644f6-d077-49ba-b5ae-d60ad16756d1",
     "isComponent": false,
     "name": "",
     "parents": []
    }
   },
   "outputs": [],
   "source": [
    "ConvertionRateCountTable = checkContact "
   ]
  },
  {
   "cell_type": "code",
   "execution_count": 19,
   "id": "88939936-e882-4521-b73d-7650303fa183",
   "metadata": {
    "canvas": {
     "comments": [],
     "componentType": "CodeCell",
     "copiedOriginId": null,
     "diskcache": false,
     "headerColor": "transparent",
     "id": "740514eb-67e4-456e-9181-cfe80408d092",
     "isComponent": false,
     "name": "",
     "parents": []
    }
   },
   "outputs": [],
   "source": [
    "ConvertionRateCount = ConvertionRateCountTable[ConvertionRateCountTable['wonYN']=='Y'].groupby('year-month').size().reset_index(name = 'successCount')"
   ]
  },
  {
   "cell_type": "markdown",
   "id": "f71a9ad5-8a23-40ba-b24c-eadde9ca740e",
   "metadata": {
    "canvas": {
     "comments": [],
     "componentType": "CodeCell",
     "copiedOriginId": "382a91aa-f69d-4eb5-bbc0-6b3a7b15f110",
     "diskcache": false,
     "headerColor": "transparent",
     "id": "083a0fca-6d80-456a-82bc-885e1429e354",
     "isComponent": false,
     "name": "",
     "parents": []
    }
   },
   "source": [
    "### 처음에 랜딩페이지에 연락처를 남긴 사람들의 데이터를 전처리함 "
   ]
  },
  {
   "cell_type": "code",
   "execution_count": 20,
   "id": "230b8ce4-816a-4499-88b7-a2273a49c89e",
   "metadata": {
    "canvas": {
     "comments": [],
     "componentType": "CodeCell",
     "copiedOriginId": null,
     "diskcache": false,
     "headerColor": "transparent",
     "id": "a66ab4c2-e16e-45b3-aa08-79d085ec4de6",
     "isComponent": false,
     "name": "",
     "parents": []
    }
   },
   "outputs": [],
   "source": [
    "InitialContect = checkContact"
   ]
  },
  {
   "cell_type": "code",
   "execution_count": 21,
   "id": "2622e90d-0f1a-4267-81a7-9fd177aeed66",
   "metadata": {
    "canvas": {
     "comments": [],
     "componentType": "CodeCell",
     "copiedOriginId": null,
     "diskcache": false,
     "headerColor": "transparent",
     "id": "549f9c97-7279-4d8f-a6d0-04d6990859b0",
     "isComponent": false,
     "name": "",
     "parents": []
    }
   },
   "outputs": [],
   "source": [
    "InitialContect['first_contact_date'] = pd.to_datetime(InitialContect['first_contact_date'])"
   ]
  },
  {
   "cell_type": "markdown",
   "id": "9c20e8c5-a259-43da-ab72-24c1aee2f3ee",
   "metadata": {
    "canvas": {
     "comments": [],
     "componentType": "CodeCell",
     "copiedOriginId": null,
     "diskcache": false,
     "headerColor": "transparent",
     "id": "2d9b931d-b091-4c60-b4a5-a37149f81d84",
     "isComponent": false,
     "name": "",
     "parents": []
    }
   },
   "source": [
    "## 년-월로 날짜 데이터를 전처리 한 후, 분기별로 전환율을 구함 "
   ]
  },
  {
   "cell_type": "code",
   "execution_count": 22,
   "id": "15dcf09a-8a4d-4313-8ee8-fa7415fa2e07",
   "metadata": {
    "canvas": {
     "comments": [],
     "componentType": "CodeCell",
     "copiedOriginId": null,
     "diskcache": false,
     "headerColor": "transparent",
     "id": "392cddb0-282b-43da-b0c2-b59e7612f71d",
     "isComponent": false,
     "name": "",
     "parents": []
    },
    "tags": []
   },
   "outputs": [],
   "source": [
    "InitialContect['year-month'] =  InitialContect['first_contact_date'].dt.strftime('%Y-%m') "
   ]
  },
  {
   "cell_type": "code",
   "execution_count": 23,
   "id": "ef7c617e-640a-4253-8d39-208bd2937ca6",
   "metadata": {
    "canvas": {
     "comments": [],
     "componentType": "CodeCell",
     "copiedOriginId": null,
     "diskcache": false,
     "headerColor": "transparent",
     "id": "6f403c14-f8bd-4584-b92b-b59fc46bd7b6",
     "isComponent": false,
     "name": "",
     "parents": []
    }
   },
   "outputs": [],
   "source": [
    "ContactCount = InitialContect.groupby('year-month').size().reset_index(name = 'contactCount')"
   ]
  },
  {
   "cell_type": "code",
   "execution_count": 24,
   "id": "f404b484-5002-48f8-a541-f2b22e00276e",
   "metadata": {
    "canvas": {
     "comments": [],
     "componentType": "CodeCell",
     "copiedOriginId": null,
     "diskcache": false,
     "headerColor": "transparent",
     "id": "d17070cf-9337-4b77-9e4b-23dacd95d33f",
     "isComponent": false,
     "name": "",
     "parents": []
    }
   },
   "outputs": [],
   "source": [
    "finalData = pd.merge(ContactCount[['year-month','contactCount']],ConvertionRateCount[['year-month','successCount']],on='year-month',how='left')"
   ]
  },
  {
   "cell_type": "code",
   "execution_count": 25,
   "id": "80a7f563-b53d-4cab-8ed2-a42fabd73847",
   "metadata": {
    "canvas": {
     "comments": [],
     "componentType": "CodeCell",
     "copiedOriginId": null,
     "diskcache": false,
     "headerColor": "transparent",
     "id": "73e95844-cdf1-4a86-bbdd-7c6a092e2faa",
     "isComponent": false,
     "name": "",
     "parents": []
    },
    "tags": []
   },
   "outputs": [],
   "source": [
    "#년-월별 전환율 계산 \n",
    "finalData['conversionRate'] = (finalData['successCount'] /sum(finalData['contactCount']))*100"
   ]
  },
  {
   "cell_type": "code",
   "execution_count": 26,
   "id": "984dcad6-334f-4131-827f-4645272baf3f",
   "metadata": {
    "canvas": {
     "comments": [],
     "componentType": "CodeCell",
     "copiedOriginId": null,
     "diskcache": false,
     "headerColor": "transparent",
     "id": "b5fdd513-4ed3-4d44-af73-9e59884eb54e",
     "isComponent": false,
     "name": "",
     "parents": []
    }
   },
   "outputs": [],
   "source": [
    "finalData['quarter'] = pd.to_datetime(finalData['year-month']).dt.year.astype('str')+'-'+pd.to_datetime(finalData['year-month']).dt.quarter.astype('str')"
   ]
  },
  {
   "cell_type": "code",
   "execution_count": 27,
   "id": "582c31d1-e8ae-4b03-9dc3-a5de9d11375c",
   "metadata": {
    "canvas": {
     "comments": [],
     "componentType": "CodeCell",
     "copiedOriginId": null,
     "diskcache": false,
     "headerColor": "transparent",
     "id": "71c53060-d3b9-4920-ae8d-64fa1ca5d635",
     "isComponent": false,
     "name": "",
     "parents": []
    }
   },
   "outputs": [],
   "source": [
    "#분기별 전환율 전에 총 연락 수, 계약 수 \n",
    "quarterData = finalData.groupby('quarter').sum(['contactCount','successCount']).reset_index()"
   ]
  },
  {
   "cell_type": "code",
   "execution_count": 28,
   "id": "fd0ec833-5448-4776-b887-ce1215faf468",
   "metadata": {
    "canvas": {
     "comments": [],
     "componentType": "CodeCell",
     "copiedOriginId": null,
     "diskcache": false,
     "headerColor": "transparent",
     "id": "6dec026e-daab-4550-a320-c7b93b0935c3",
     "isComponent": false,
     "name": "",
     "parents": []
    }
   },
   "outputs": [],
   "source": [
    "#분기별 전환율\n",
    "quarterData['retention'] = quarterData['successCount']/sum(quarterData['contactCount']) * 100"
   ]
  },
  {
   "cell_type": "markdown",
   "id": "d625eb35-d70e-413d-b797-9411078aa531",
   "metadata": {
    "canvas": {
     "comments": [],
     "componentType": "CodeCell",
     "copiedOriginId": "352439fc-a14f-471f-8cf6-ddee47a20f21",
     "diskcache": false,
     "headerColor": "transparent",
     "id": "da9d684d-a660-4940-bff3-aad8ab5df585",
     "isComponent": false,
     "name": "",
     "parents": []
    }
   },
   "source": [
    "# 월별 전환율 그래프 생성"
   ]
  },
  {
   "cell_type": "code",
   "execution_count": 29,
   "id": "1f3744b2-7dfd-4bf7-8540-a89a17d90b0d",
   "metadata": {
    "canvas": {
     "comments": [],
     "componentType": "CodeCell",
     "copiedOriginId": null,
     "diskcache": false,
     "headerColor": "transparent",
     "id": "3df304a1-29eb-4b1c-9ee0-0490f8c7c3d0",
     "isComponent": false,
     "name": "",
     "parents": []
    }
   },
   "outputs": [
    {
     "data": {
      "image/png": "[encoded data removed]",
      "text/plain": [
       "<Figure size 1000x600 with 2 Axes>"
      ]
     },
     "metadata": {},
     "output_type": "display_data"
    }
   ],
   "source": [
    "# 예제 데이터프레임 생성\n",
    "\n",
    "df = finalData\n",
    "\n",
    "\n",
    "# x축 위치 설정\n",
    "x = np.arange(len(df))\n",
    "\n",
    "# 막대 그래프 너비 설정\n",
    "width = 0.35\n",
    "\n",
    "# Figure와 Axes 객체 생성\n",
    "fig, ax1 = plt.subplots(figsize=(10, 6))\n",
    "\n",
    "# 첫 번째 y축에 대한 막대 그래프 그리기\n",
    "ax1.bar(x - width/2, finalData['contactCount'], width, label='contactCount', color='skyblue')\n",
    "ax1.bar(x + width/2, finalData['successCount'], width, label='successCount', color='orange')\n",
    "\n",
    "# 첫 번째 y축 라벨 및 설정\n",
    "ax1.set_xlabel('year-month')\n",
    "ax1.set_ylabel('contactCount')\n",
    "ax1.set_title('conversion Rate Graph')\n",
    "ax1.set_xticks(x)\n",
    "ax1.set_xticklabels(df['year-month'])\n",
    "ax1.legend(loc='upper left')\n",
    "\n",
    "# 두 번째 y축을 생성하여 비율 표시\n",
    "ax2 = ax1.twinx()\n",
    "ax2.plot(x, finalData['conversionRate'], color='green', marker='o', label='retention', linewidth=2)\n",
    "\n",
    "# 두 번째 y축 라벨 설정\n",
    "ax2.set_ylabel('retention')\n",
    "ax2.legend(loc='upper right')\n",
    "\n",
    "# 그래프 출력\n",
    "plt.show()"
   ]
  },
  {
   "cell_type": "markdown",
   "id": "4b90798b-126f-4673-8a6c-0fb207e4da0c",
   "metadata": {
    "canvas": {
     "comments": [],
     "componentType": "CodeCell",
     "copiedOriginId": null,
     "diskcache": false,
     "headerColor": "transparent",
     "id": "d0820557-34c0-4fbe-bb33-7de024c343bb",
     "isComponent": false,
     "name": "",
     "parents": []
    }
   },
   "source": [
    "## 분기별 전환율 그래프 생성"
   ]
  },
  {
   "cell_type": "code",
   "execution_count": 30,
   "id": "b012c411-863f-45af-b9af-94cdb31c1dab",
   "metadata": {
    "canvas": {
     "comments": [],
     "componentType": "CodeCell",
     "copiedOriginId": "68d1443a-a8ae-4560-a133-eaf7e92ab6f1",
     "diskcache": false,
     "headerColor": "transparent",
     "id": "06a2bb6d-060d-451d-b633-97ee2e1630e3",
     "isComponent": false,
     "name": "",
     "parents": []
    }
   },
   "outputs": [
    {
     "data": {
      "image/png": "[encoded data removed]",
      "text/plain": [
       "<Figure size 1000x600 with 2 Axes>"
      ]
     },
     "metadata": {},
     "output_type": "display_data"
    }
   ],
   "source": [
    "# 예제 데이터프레임 생성\n",
    "\n",
    "df = quarterData\n",
    "\n",
    "# x축 위치 설정\n",
    "x = np.arange(len(df))\n",
    "\n",
    "# 막대 그래프 너비 설정\n",
    "width = 0.35\n",
    "\n",
    "# Figure와 Axes 객체 생성\n",
    "fig, ax1 = plt.subplots(figsize=(10, 6))\n",
    "\n",
    "# 첫 번째 y축에 대한 막대 그래프 그리기\n",
    "ax1.bar(x - width/2, df['contactCount'], width, label='contactCount', color='skyblue')\n",
    "ax1.bar(x + width/2, df['successCount'], width, label='successCount', color='orange')\n",
    "\n",
    "# 첫 번째 y축 라벨 및 설정\n",
    "ax1.set_xlabel('quarter')\n",
    "ax1.set_ylabel('contactCount')\n",
    "ax1.set_title('conversionRate Graph')\n",
    "ax1.set_xticks(x)\n",
    "ax1.set_xticklabels(df['quarter'])\n",
    "ax1.legend(loc='upper left')\n",
    "\n",
    "# 두 번째 y축을 생성하여 비율 표시\n",
    "ax2 = ax1.twinx()\n",
    "ax2.plot(x, df['conversionRate'], color='green', marker='o', label='retention', linewidth=2)\n",
    "\n",
    "# 두 번째 y축 라벨 설정\n",
    "ax2.set_ylabel('retention')\n",
    "ax2.legend(loc='upper right')\n",
    "\n",
    "# 그래프 출력\n",
    "plt.show()"
   ]
  },
  {
   "cell_type": "markdown",
   "id": "6f5fc8c4-454b-44ce-98ab-ce82bb60d3ec",
   "metadata": {
    "canvas": {
     "comments": [],
     "componentType": "CodeCell",
     "copiedOriginId": null,
     "diskcache": false,
     "headerColor": "transparent",
     "id": "edb09e99-2597-423f-88c7-1a64d5fdeb0e",
     "isComponent": false,
     "name": "",
     "parents": []
    }
   },
   "source": [
    "## seller 특성별 분석"
   ]
  },
  {
   "cell_type": "markdown",
   "id": "aa0dc6af-af4e-4cb0-9069-42722016ea64",
   "metadata": {
    "canvas": {
     "comments": [],
     "componentType": "CodeCell",
     "copiedOriginId": null,
     "diskcache": false,
     "headerColor": "transparent",
     "id": "5bc450d2-7a0f-43cf-9556-db379414993f",
     "isComponent": false,
     "name": "",
     "parents": []
    }
   },
   "source": [
    "### 성향  데이터 EDA 및 성향별 업종 데이터 분석 "
   ]
  },
  {
   "cell_type": "code",
   "execution_count": 31,
   "id": "7a7825a3-c96a-4886-857e-b0e06b343432",
   "metadata": {
    "canvas": {
     "comments": [],
     "componentType": "CodeCell",
     "copiedOriginId": null,
     "diskcache": false,
     "headerColor": "transparent",
     "id": "c8770315-b9ff-4296-8a83-070735edb1ac",
     "isComponent": false,
     "name": "",
     "parents": []
    }
   },
   "outputs": [],
   "source": [
    "checkContact['first_contact_date'] = pd.to_datetime(checkContact['first_contact_date'], format = '%Y-%m-%d')"
   ]
  },
  {
   "cell_type": "code",
   "execution_count": 32,
   "id": "8a133d08-aed5-4a6b-b7a7-23c08ff1874a",
   "metadata": {
    "canvas": {
     "comments": [],
     "componentType": "CodeCell",
     "copiedOriginId": null,
     "diskcache": false,
     "headerColor": "transparent",
     "id": "6d89eb4d-869e-4611-8afc-90b5027ac246",
     "isComponent": false,
     "name": "",
     "parents": []
    }
   },
   "outputs": [],
   "source": [
    "checkContact['won_date'] = checkContact['won_date'].fillna(pd.Timestamp('1970-01-01 01:00'))"
   ]
  },
  {
   "cell_type": "code",
   "execution_count": 33,
   "id": "45b2149b-f7d0-42fd-95e5-425f86ba2fe3",
   "metadata": {
    "canvas": {
     "comments": [],
     "componentType": "CodeCell",
     "copiedOriginId": null,
     "diskcache": false,
     "headerColor": "transparent",
     "id": "9dba9699-e46b-470a-b1c7-3aec52de69fa",
     "isComponent": false,
     "name": "",
     "parents": []
    }
   },
   "outputs": [],
   "source": [
    "checkContact['won_date'] = pd.to_datetime(checkContact['won_date'], format = '%Y-%m-%d')"
   ]
  },
  {
   "cell_type": "code",
   "execution_count": 34,
   "id": "6a924556-40f3-46d3-a089-2ab73e4cf8b2",
   "metadata": {
    "canvas": {
     "comments": [],
     "componentType": "CodeCell",
     "copiedOriginId": null,
     "diskcache": false,
     "headerColor": "transparent",
     "id": "5bb8f5f0-4971-4ac3-be72-fdb6971aa576",
     "isComponent": false,
     "name": "",
     "parents": []
    }
   },
   "outputs": [],
   "source": [
    "checkContact['Period'] = checkContact['won_date'] - checkContact['first_contact_date']"
   ]
  },
  {
   "cell_type": "code",
   "execution_count": 35,
   "id": "b01434ee-eecc-494f-b0fd-5dd392a4b93e",
   "metadata": {
    "canvas": {
     "comments": [],
     "componentType": "CodeCell",
     "copiedOriginId": null,
     "diskcache": false,
     "headerColor": "transparent",
     "id": "9eeb5ffd-2f35-4a67-94e0-d3151f136f91",
     "isComponent": false,
     "name": "",
     "parents": []
    }
   },
   "outputs": [],
   "source": [
    "checkContact['Period'] = checkContact['Period'].dt.days"
   ]
  },
  {
   "cell_type": "code",
   "execution_count": 36,
   "id": "2fb6ff0b-4ff5-4111-ab1c-78c1aa720f22",
   "metadata": {
    "canvas": {
     "comments": [],
     "componentType": "CodeCell",
     "copiedOriginId": null,
     "diskcache": false,
     "headerColor": "transparent",
     "id": "5afc8c4b-50da-4d37-8605-1269cb1c87c6",
     "isComponent": false,
     "name": "",
     "parents": []
    }
   },
   "outputs": [],
   "source": [
    "periodData = checkContact[checkContact['Period']>0]"
   ]
  },
  {
   "cell_type": "code",
   "execution_count": 37,
   "id": "edd19316-71e8-43b1-b334-e82c677d6df0",
   "metadata": {
    "canvas": {
     "comments": [],
     "componentType": "CodeCell",
     "copiedOriginId": null,
     "diskcache": false,
     "headerColor": "transparent",
     "id": "6107842a-5567-4e18-bf61-6e0174066970",
     "isComponent": false,
     "name": "",
     "parents": []
    }
   },
   "outputs": [],
   "source": [
    "periodData = periodData.reset_index()"
   ]
  },
  {
   "cell_type": "code",
   "execution_count": 38,
   "id": "3e291c9f-9fd1-4a6e-af3b-35539e34617e",
   "metadata": {
    "canvas": {
     "comments": [],
     "componentType": "CodeCell",
     "copiedOriginId": null,
     "diskcache": false,
     "headerColor": "transparent",
     "id": "6ef30a2e-8e7b-46d4-aa9b-6a6d3e9de773",
     "isComponent": false,
     "name": "",
     "parents": []
    },
    "tags": []
   },
   "outputs": [],
   "source": [
    "periodData['lead_behaviour_profile'] = periodData['lead_behaviour_profile'].squeeze()"
   ]
  },
  {
   "cell_type": "code",
   "execution_count": 39,
   "id": "173dc5ad-4f99-4e1a-b761-d02444d66151",
   "metadata": {
    "canvas": {
     "comments": [],
     "componentType": "CodeCell",
     "copiedOriginId": null,
     "diskcache": false,
     "headerColor": "transparent",
     "id": "de6de596-244e-46ce-b415-551324444a47",
     "isComponent": false,
     "name": "",
     "parents": []
    },
    "tags": []
   },
   "outputs": [
    {
     "data": {
      "text/plain": [
       "lead_behaviour_profile\n",
       "cat             42.914508\n",
       "cat, wolf      185.750000\n",
       "eagle           38.478261\n",
       "eagle, cat     199.000000\n",
       "eagle, wolf    149.333333\n",
       "shark           78.652174\n",
       "shark, cat     181.000000\n",
       "shark, wolf    341.000000\n",
       "wolf            84.808511\n",
       "Name: Period, dtype: float64"
      ]
     },
     "execution_count": 39,
     "metadata": {},
     "output_type": "execute_result"
    }
   ],
   "source": [
    "periodData.groupby('lead_behaviour_profile')['Period'].mean()"
   ]
  },
  {
   "cell_type": "code",
   "execution_count": 40,
   "id": "eaf335d2-f228-4752-b661-b468f82d58e8",
   "metadata": {
    "canvas": {
     "comments": [],
     "componentType": "CodeCell",
     "copiedOriginId": null,
     "diskcache": false,
     "headerColor": "transparent",
     "id": "948d95a9-aed9-4b10-86b0-118ced882297",
     "isComponent": false,
     "name": "",
     "parents": []
    }
   },
   "outputs": [
    {
     "data": {
      "text/plain": [
       "lead_behaviour_profile\n",
       "cat            386\n",
       "cat, wolf        8\n",
       "eagle          115\n",
       "eagle, cat       3\n",
       "eagle, wolf      3\n",
       "shark           23\n",
       "shark, cat       1\n",
       "shark, wolf      1\n",
       "wolf            94\n",
       "dtype: int64"
      ]
     },
     "execution_count": 40,
     "metadata": {},
     "output_type": "execute_result"
    }
   ],
   "source": [
    "periodData.groupby('lead_behaviour_profile').size()"
   ]
  },
  {
   "cell_type": "markdown",
   "id": "a4711149-556c-4c7d-bf40-134996dd01b7",
   "metadata": {
    "canvas": {
     "comments": [],
     "componentType": "CodeCell",
     "copiedOriginId": null,
     "diskcache": false,
     "headerColor": "transparent",
     "id": "a65e9412-72b3-468f-b655-fd8835004d27",
     "isComponent": false,
     "name": "",
     "parents": []
    }
   },
   "source": [
    "## 성향별 업종분포 구하기 "
   ]
  },
  {
   "cell_type": "code",
   "execution_count": 41,
   "id": "5079f404-aac7-4253-b7ee-f312c4609bc5",
   "metadata": {
    "canvas": {
     "comments": [],
     "componentType": "CodeCell",
     "copiedOriginId": null,
     "diskcache": false,
     "headerColor": "transparent",
     "id": "0fe885b6-0361-44ea-a959-0389a43de926",
     "isComponent": false,
     "name": "",
     "parents": []
    }
   },
   "outputs": [
    {
     "data": {
      "image/png": "[encoded data removed]",
      "text/plain": [
       "<Figure size 1000x600 with 2 Axes>"
      ]
     },
     "metadata": {},
     "output_type": "display_data"
    }
   ],
   "source": [
    "# 성향별 업종 분포 카운트\n",
    "count_df = checkContact.groupby(['lead_behaviour_profile', 'business_segment']).size().unstack(fill_value=0)\n",
    "\n",
    "# 시각화\n",
    "plt.figure(figsize=(10, 6))\n",
    "sns.heatmap(count_df, annot=True, cmap='Blues', linewidths=0.5, linecolor='grey')\n",
    "plt.title('Distribution of Sellers by DISC Type and Industry')\n",
    "plt.xlabel('lead_behaviour_profile')\n",
    "plt.ylabel('business_segment')\n",
    "plt.show()"
   ]
  },
  {
   "cell_type": "markdown",
   "id": "465ea9b1-6b79-4d67-a54a-384b639c2edc",
   "metadata": {
    "canvas": {
     "comments": [],
     "componentType": "CodeCell",
     "copiedOriginId": null,
     "diskcache": false,
     "headerColor": "transparent",
     "id": "ef5307dd-00a1-44f1-b3e3-b4fb33f2180e",
     "isComponent": false,
     "name": "",
     "parents": []
    }
   },
   "source": [
    "## 랜딩페이지 통계 \n",
    "동시 노출이 맞았는지 확인 진행 : 동시 노출이 되는 랜딩 페이지는 없었고, 생각보다 랜딩페이지의 종류가 많았음 "
   ]
  },
  {
   "cell_type": "code",
   "execution_count": 42,
   "id": "87cca64c-66f9-4259-bae3-9af89bb9f44c",
   "metadata": {
    "canvas": {
     "comments": [],
     "componentType": "CodeCell",
     "copiedOriginId": null,
     "diskcache": false,
     "headerColor": "transparent",
     "id": "48454ddb-7cf4-4f09-8e24-10c1e7588cad",
     "isComponent": false,
     "name": "",
     "parents": []
    }
   },
   "outputs": [],
   "source": [
    "landingPageResult = qualifiedLeads.groupby('landing_page_id',as_index=False).agg({'first_contact_date':['min','max']}).reset_index()\n",
    "#.to_csv('landingPage_EDA.csv')"
   ]
  },
  {
   "cell_type": "code",
   "execution_count": 43,
   "id": "290630c6-a87f-44c9-a04d-080c27a189a9",
   "metadata": {
    "canvas": {
     "comments": [],
     "componentType": "CodeCell",
     "copiedOriginId": null,
     "diskcache": false,
     "headerColor": "transparent",
     "id": "6d4709fd-4e67-49d9-ae9d-a40b0f006b93",
     "isComponent": false,
     "name": "",
     "parents": []
    },
    "tags": []
   },
   "outputs": [],
   "source": [
    "# 컬럼 이름을 단일 계층으로 변경\n",
    "landingPageResult.columns = ['_'.join(col).strip() if col[1] else col[0] for col in landingPageResult.columns.values]"
   ]
  },
  {
   "cell_type": "code",
   "execution_count": 44,
   "id": "ad1b7583-762b-4c42-9bd1-95416e683898",
   "metadata": {
    "canvas": {
     "comments": [],
     "componentType": "CodeCell",
     "copiedOriginId": null,
     "diskcache": false,
     "headerColor": "transparent",
     "id": "eb1a1be9-f60c-4412-97ce-77031cc6c108",
     "isComponent": false,
     "name": "",
     "parents": []
    }
   },
   "outputs": [
    {
     "data": {
      "text/html": [
       "<div>\n",
       "<style scoped>\n",
       "    .dataframe tbody tr th:only-of-type {\n",
       "        vertical-align: middle;\n",
       "    }\n",
       "\n",
       "    .dataframe tbody tr th {\n",
       "        vertical-align: top;\n",
       "    }\n",
       "\n",
       "    .dataframe thead th {\n",
       "        text-align: right;\n",
       "    }\n",
       "</style>\n",
       "<table border=\"1\" class=\"dataframe\">\n",
       "  <thead>\n",
       "    <tr style=\"text-align: right;\">\n",
       "      <th></th>\n",
       "      <th>index</th>\n",
       "      <th>landing_page_id</th>\n",
       "      <th>first_contact_date_min</th>\n",
       "      <th>first_contact_date_max</th>\n",
       "    </tr>\n",
       "  </thead>\n",
       "  <tbody>\n",
       "    <tr>\n",
       "      <th>0</th>\n",
       "      <td>0</td>\n",
       "      <td>007f9098284a86ee80ddeb25d53e0af8</td>\n",
       "      <td>2017-07-05</td>\n",
       "      <td>2018-05-28</td>\n",
       "    </tr>\n",
       "    <tr>\n",
       "      <th>1</th>\n",
       "      <td>1</td>\n",
       "      <td>01850876d34b43494b5f9879c366877b</td>\n",
       "      <td>2018-04-02</td>\n",
       "      <td>2018-04-02</td>\n",
       "    </tr>\n",
       "    <tr>\n",
       "      <th>2</th>\n",
       "      <td>2</td>\n",
       "      <td>0218f6be0b76aca72ab4d00ee9e8cf10</td>\n",
       "      <td>2017-07-05</td>\n",
       "      <td>2018-05-30</td>\n",
       "    </tr>\n",
       "    <tr>\n",
       "      <th>3</th>\n",
       "      <td>3</td>\n",
       "      <td>03c7c0ace395d80182db07ae2c30f034</td>\n",
       "      <td>2017-11-23</td>\n",
       "      <td>2017-11-23</td>\n",
       "    </tr>\n",
       "    <tr>\n",
       "      <th>4</th>\n",
       "      <td>4</td>\n",
       "      <td>04a75b75d5f4f3a16b0178fbe382da00</td>\n",
       "      <td>2018-04-11</td>\n",
       "      <td>2018-04-11</td>\n",
       "    </tr>\n",
       "  </tbody>\n",
       "</table>\n",
       "</div>"
      ],
      "text/plain": [
       "   index                   landing_page_id first_contact_date_min  \\\n",
       "0      0  007f9098284a86ee80ddeb25d53e0af8             2017-07-05   \n",
       "1      1  01850876d34b43494b5f9879c366877b             2018-04-02   \n",
       "2      2  0218f6be0b76aca72ab4d00ee9e8cf10             2017-07-05   \n",
       "3      3  03c7c0ace395d80182db07ae2c30f034             2017-11-23   \n",
       "4      4  04a75b75d5f4f3a16b0178fbe382da00             2018-04-11   \n",
       "\n",
       "  first_contact_date_max  \n",
       "0             2018-05-28  \n",
       "1             2018-04-02  \n",
       "2             2018-05-30  \n",
       "3             2017-11-23  \n",
       "4             2018-04-11  "
      ]
     },
     "execution_count": 44,
     "metadata": {},
     "output_type": "execute_result"
    }
   ],
   "source": [
    "landingPageResult.head()"
   ]
  },
  {
   "cell_type": "markdown",
   "id": "bf5f7971-d9af-4ca0-8336-11293435188e",
   "metadata": {
    "canvas": {
     "comments": [],
     "componentType": "CodeCell",
     "copiedOriginId": null,
     "diskcache": false,
     "headerColor": "transparent",
     "id": "6ab493ab-9f7d-499a-a8e9-5054b9f5730a",
     "isComponent": false,
     "name": "",
     "parents": []
    }
   },
   "source": [
    "### 전체 랜딩페이지 노출 기간 분포 \n",
    "- 사용자가 연락처 기입한 기간 최대, 최소 날짜를 기준으로 집계 함"
   ]
  },
  {
   "cell_type": "code",
   "execution_count": 45,
   "id": "a0e97d9e-27ea-446f-b803-2da6bfb3bb66",
   "metadata": {
    "canvas": {
     "comments": [],
     "componentType": "CodeCell",
     "copiedOriginId": null,
     "diskcache": false,
     "headerColor": "transparent",
     "id": "7991f531-1309-45bb-a801-522e8d3cb176",
     "isComponent": false,
     "name": "",
     "parents": []
    }
   },
   "outputs": [],
   "source": [
    "landingPageResult = qualifiedLeads.groupby('landing_page_id',as_index=False).agg({'first_contact_date':['min','max']}).reset_index()"
   ]
  },
  {
   "cell_type": "code",
   "execution_count": 46,
   "id": "03bb1262-9c5b-4178-9a2f-0b2626bd1771",
   "metadata": {
    "canvas": {
     "comments": [],
     "componentType": "CodeCell",
     "copiedOriginId": null,
     "diskcache": false,
     "headerColor": "transparent",
     "id": "96d95258-fb29-4ac9-aac4-38d566394573",
     "isComponent": false,
     "name": "",
     "parents": []
    }
   },
   "outputs": [],
   "source": [
    "# 컬럼 이름을 단일 계층으로 변경\n",
    "landingPageResult.columns = ['_'.join(col).strip() if col[1] else col[0] for col in landingPageResult.columns.values]"
   ]
  },
  {
   "cell_type": "code",
   "execution_count": 47,
   "id": "1481d54e-fb59-46b7-b768-00e5f3394a6e",
   "metadata": {
    "canvas": {
     "comments": [],
     "componentType": "CodeCell",
     "copiedOriginId": null,
     "diskcache": false,
     "headerColor": "transparent",
     "id": "1f362672-c9f7-44e7-b031-044e3401d0af",
     "isComponent": false,
     "name": "",
     "parents": []
    }
   },
   "outputs": [
    {
     "data": {
      "text/html": [
       "<div>\n",
       "<style scoped>\n",
       "    .dataframe tbody tr th:only-of-type {\n",
       "        vertical-align: middle;\n",
       "    }\n",
       "\n",
       "    .dataframe tbody tr th {\n",
       "        vertical-align: top;\n",
       "    }\n",
       "\n",
       "    .dataframe thead th {\n",
       "        text-align: right;\n",
       "    }\n",
       "</style>\n",
       "<table border=\"1\" class=\"dataframe\">\n",
       "  <thead>\n",
       "    <tr style=\"text-align: right;\">\n",
       "      <th></th>\n",
       "      <th>index</th>\n",
       "      <th>landing_page_id</th>\n",
       "      <th>first_contact_date_min</th>\n",
       "      <th>first_contact_date_max</th>\n",
       "    </tr>\n",
       "  </thead>\n",
       "  <tbody>\n",
       "    <tr>\n",
       "      <th>0</th>\n",
       "      <td>0</td>\n",
       "      <td>007f9098284a86ee80ddeb25d53e0af8</td>\n",
       "      <td>2017-07-05</td>\n",
       "      <td>2018-05-28</td>\n",
       "    </tr>\n",
       "    <tr>\n",
       "      <th>1</th>\n",
       "      <td>1</td>\n",
       "      <td>01850876d34b43494b5f9879c366877b</td>\n",
       "      <td>2018-04-02</td>\n",
       "      <td>2018-04-02</td>\n",
       "    </tr>\n",
       "    <tr>\n",
       "      <th>2</th>\n",
       "      <td>2</td>\n",
       "      <td>0218f6be0b76aca72ab4d00ee9e8cf10</td>\n",
       "      <td>2017-07-05</td>\n",
       "      <td>2018-05-30</td>\n",
       "    </tr>\n",
       "    <tr>\n",
       "      <th>3</th>\n",
       "      <td>3</td>\n",
       "      <td>03c7c0ace395d80182db07ae2c30f034</td>\n",
       "      <td>2017-11-23</td>\n",
       "      <td>2017-11-23</td>\n",
       "    </tr>\n",
       "    <tr>\n",
       "      <th>4</th>\n",
       "      <td>4</td>\n",
       "      <td>04a75b75d5f4f3a16b0178fbe382da00</td>\n",
       "      <td>2018-04-11</td>\n",
       "      <td>2018-04-11</td>\n",
       "    </tr>\n",
       "  </tbody>\n",
       "</table>\n",
       "</div>"
      ],
      "text/plain": [
       "   index                   landing_page_id first_contact_date_min  \\\n",
       "0      0  007f9098284a86ee80ddeb25d53e0af8             2017-07-05   \n",
       "1      1  01850876d34b43494b5f9879c366877b             2018-04-02   \n",
       "2      2  0218f6be0b76aca72ab4d00ee9e8cf10             2017-07-05   \n",
       "3      3  03c7c0ace395d80182db07ae2c30f034             2017-11-23   \n",
       "4      4  04a75b75d5f4f3a16b0178fbe382da00             2018-04-11   \n",
       "\n",
       "  first_contact_date_max  \n",
       "0             2018-05-28  \n",
       "1             2018-04-02  \n",
       "2             2018-05-30  \n",
       "3             2017-11-23  \n",
       "4             2018-04-11  "
      ]
     },
     "execution_count": 47,
     "metadata": {},
     "output_type": "execute_result"
    }
   ],
   "source": [
    "landingPageResult.head()"
   ]
  },
  {
   "cell_type": "code",
   "execution_count": 48,
   "id": "b8bb48d9-904a-4e04-9c77-5d7c66f0db20",
   "metadata": {
    "canvas": {
     "comments": [],
     "componentType": "CodeCell",
     "copiedOriginId": null,
     "diskcache": false,
     "headerColor": "transparent",
     "id": "4b02f601-0e03-4161-b957-8ed89cd108d5",
     "isComponent": false,
     "name": "",
     "parents": []
    },
    "tags": []
   },
   "outputs": [],
   "source": [
    "landingPageResult['최초연락 년-월'] = pd.to_datetime(landingPageResult['first_contact_date_min']).dt.strftime('%Y-%m') "
   ]
  },
  {
   "cell_type": "code",
   "execution_count": 49,
   "id": "3ed60d71-9305-482b-9629-2212c35b40f5",
   "metadata": {
    "canvas": {
     "comments": [],
     "componentType": "CodeCell",
     "copiedOriginId": null,
     "diskcache": false,
     "headerColor": "transparent",
     "id": "bdf3d69d-12ee-43bd-adeb-8c2387e86a4b",
     "isComponent": false,
     "name": "",
     "parents": []
    },
    "tags": []
   },
   "outputs": [],
   "source": [
    "landingPageResult['period'] = pd.to_datetime(landingPageResult['first_contact_date_max']) - pd.to_datetime(landingPageResult['first_contact_date_min'])"
   ]
  },
  {
   "cell_type": "code",
   "execution_count": 50,
   "id": "0e6c5e90-278a-4da9-b0df-ec5614bf07ce",
   "metadata": {
    "canvas": {
     "comments": [],
     "componentType": "CodeCell",
     "copiedOriginId": null,
     "diskcache": false,
     "headerColor": "transparent",
     "id": "48416e92-b83b-41cd-abbf-6c944262d1d8",
     "isComponent": false,
     "name": "",
     "parents": []
    }
   },
   "outputs": [],
   "source": [
    "landingPageResult['period'] = landingPageResult['period'].dt.days"
   ]
  },
  {
   "cell_type": "code",
   "execution_count": 51,
   "id": "b2792e49-624a-4382-bf27-8976824f75e4",
   "metadata": {
    "canvas": {
     "comments": [],
     "componentType": "CodeCell",
     "copiedOriginId": null,
     "diskcache": false,
     "headerColor": "transparent",
     "id": "13e6ee6c-ca0f-49f9-8f30-50bcb3b3863c",
     "isComponent": false,
     "name": "",
     "parents": []
    },
    "tags": []
   },
   "outputs": [],
   "source": [
    "sortedDataSize = landingPageResult.groupby(('최초연락 년-월')).size().reset_index(name='total_count')"
   ]
  },
  {
   "cell_type": "code",
   "execution_count": 52,
   "id": "d3908ca5-80a4-42ba-b6c1-fffd9b51bf17",
   "metadata": {
    "canvas": {
     "comments": [],
     "componentType": "CodeCell",
     "copiedOriginId": null,
     "diskcache": false,
     "headerColor": "transparent",
     "id": "3b5304ea-252c-4295-bca9-cb193b00d42c",
     "isComponent": false,
     "name": "",
     "parents": []
    },
    "tags": []
   },
   "outputs": [],
   "source": [
    "periodDataSize = landingPageResult.groupby(('period')).size().reset_index(name='total_count')"
   ]
  },
  {
   "cell_type": "code",
   "execution_count": 53,
   "id": "2b79f5f4-33de-405c-99f4-af0bc25c86d2",
   "metadata": {
    "canvas": {
     "comments": [],
     "componentType": "CodeCell",
     "copiedOriginId": null,
     "diskcache": false,
     "headerColor": "transparent",
     "id": "e56366e9-9103-490b-8920-8c2cfeba04f9",
     "isComponent": false,
     "name": "",
     "parents": []
    },
    "tags": []
   },
   "outputs": [
    {
     "data": {
      "image/png": "[encoded data removed]",
      "text/plain": [
       "<Figure size 640x480 with 1 Axes>"
      ]
     },
     "metadata": {},
     "output_type": "display_data"
    }
   ],
   "source": [
    "plt.hist(landingPageResult['period'], bins=10)  # x_data는 분포를 확인하고 싶은 데이터\n",
    "plt.xlabel('랜딩페이지 노출 기간')\n",
    "plt.ylabel('빈도 수')\n",
    "plt.title('전체 랜딩페이지 노출 기간 분포')\n",
    "plt.show()"
   ]
  },
  {
   "cell_type": "markdown",
   "id": "3caf0616-3183-44b6-899b-85c2d199d2da",
   "metadata": {
    "canvas": {
     "comments": [],
     "componentType": "CodeCell",
     "copiedOriginId": null,
     "diskcache": false,
     "headerColor": "transparent",
     "id": "0ebf9af8-f9bb-4001-93ba-073599c5dc95",
     "isComponent": false,
     "name": "",
     "parents": []
    }
   },
   "source": [
    "## 랜딩페이지 노출 기간이 2018년 3월~5월 사이에 짧았는지에 대한 확인을 재진행함 \n",
    "방법: 기간 범위를 줄임 "
   ]
  },
  {
   "cell_type": "code",
   "execution_count": 54,
   "id": "d83fae52-15f7-4ac8-a5df-bf11c6a9a2c5",
   "metadata": {
    "canvas": {
     "comments": [],
     "componentType": "CodeCell",
     "copiedOriginId": null,
     "diskcache": false,
     "headerColor": "transparent",
     "id": "fbf9faab-4644-4c86-9009-9c1784b401eb",
     "isComponent": false,
     "name": "",
     "parents": []
    }
   },
   "outputs": [],
   "source": [
    "#first_contact_date_min\tfirst_contact_date_max\n",
    "limitedPeriod = landingPageResult.loc[(landingPageResult['first_contact_date_min'] >= '2018-03-01') & (landingPageResult['first_contact_date_min'] <'2018-05-01')]"
   ]
  },
  {
   "cell_type": "code",
   "execution_count": 55,
   "id": "87cea74d-53e6-46fb-92a2-7c15c9dea9f5",
   "metadata": {
    "canvas": {
     "comments": [],
     "componentType": "CodeCell",
     "copiedOriginId": null,
     "diskcache": false,
     "headerColor": "transparent",
     "id": "fcf1fc1a-df58-48d2-9fe4-0bf203af6924",
     "isComponent": false,
     "name": "",
     "parents": []
    }
   },
   "outputs": [
    {
     "data": {
      "image/png": "[encoded data removed]",
      "text/plain": [
       "<Figure size 640x480 with 1 Axes>"
      ]
     },
     "metadata": {},
     "output_type": "display_data"
    }
   ],
   "source": [
    "plt.hist(limitedPeriod['period'], bins=10)  # x_data는 분포를 확인하고 싶은 데이터\n",
    "plt.xlabel('랜딩페이지 노출 기간')\n",
    "plt.ylabel('빈도 수')\n",
    "plt.title('전체 랜딩페이지 노출 기간 분포')\n",
    "plt.show()"
   ]
  },
  {
   "cell_type": "markdown",
   "id": "3669c139-27d6-4447-8033-714737cf3ebd",
   "metadata": {
    "canvas": {
     "comments": [],
     "componentType": "CodeCell",
     "copiedOriginId": null,
     "diskcache": false,
     "headerColor": "transparent",
     "id": "dfeaa31e-faed-424e-b18d-8bec9e4b7d4f",
     "isComponent": false,
     "name": "",
     "parents": []
    }
   },
   "source": [
    "## 단기간 노출 랜딩페이지 분포 확인"
   ]
  },
  {
   "cell_type": "code",
   "execution_count": 56,
   "id": "c0a55e66-7e77-4b27-b338-3eded8160af8",
   "metadata": {
    "canvas": {
     "comments": [],
     "componentType": "CodeCell",
     "copiedOriginId": null,
     "diskcache": false,
     "headerColor": "transparent",
     "id": "4ef82bbf-b9e5-4b3a-a77d-6213f3f54aef",
     "isComponent": false,
     "name": "",
     "parents": []
    }
   },
   "outputs": [],
   "source": [
    "zero_period = landingPageResult[landingPageResult['period']==0]"
   ]
  },
  {
   "cell_type": "code",
   "execution_count": 57,
   "id": "2bfc04ba-d040-43fb-a928-5a761fede573",
   "metadata": {
    "canvas": {
     "comments": [],
     "componentType": "CodeCell",
     "copiedOriginId": null,
     "diskcache": false,
     "headerColor": "transparent",
     "id": "a403f4a3-e73c-451f-aa0a-bbb2c783c57b",
     "isComponent": false,
     "name": "",
     "parents": []
    }
   },
   "outputs": [
    {
     "data": {
      "text/html": [
       "<div>\n",
       "<style scoped>\n",
       "    .dataframe tbody tr th:only-of-type {\n",
       "        vertical-align: middle;\n",
       "    }\n",
       "\n",
       "    .dataframe tbody tr th {\n",
       "        vertical-align: top;\n",
       "    }\n",
       "\n",
       "    .dataframe thead th {\n",
       "        text-align: right;\n",
       "    }\n",
       "</style>\n",
       "<table border=\"1\" class=\"dataframe\">\n",
       "  <thead>\n",
       "    <tr style=\"text-align: right;\">\n",
       "      <th></th>\n",
       "      <th>index</th>\n",
       "      <th>landing_page_id</th>\n",
       "      <th>first_contact_date_min</th>\n",
       "      <th>first_contact_date_max</th>\n",
       "      <th>최초연락 년-월</th>\n",
       "      <th>period</th>\n",
       "    </tr>\n",
       "  </thead>\n",
       "  <tbody>\n",
       "    <tr>\n",
       "      <th>1</th>\n",
       "      <td>1</td>\n",
       "      <td>01850876d34b43494b5f9879c366877b</td>\n",
       "      <td>2018-04-02</td>\n",
       "      <td>2018-04-02</td>\n",
       "      <td>2018-04</td>\n",
       "      <td>0</td>\n",
       "    </tr>\n",
       "    <tr>\n",
       "      <th>3</th>\n",
       "      <td>3</td>\n",
       "      <td>03c7c0ace395d80182db07ae2c30f034</td>\n",
       "      <td>2017-11-23</td>\n",
       "      <td>2017-11-23</td>\n",
       "      <td>2017-11</td>\n",
       "      <td>0</td>\n",
       "    </tr>\n",
       "    <tr>\n",
       "      <th>4</th>\n",
       "      <td>4</td>\n",
       "      <td>04a75b75d5f4f3a16b0178fbe382da00</td>\n",
       "      <td>2018-04-11</td>\n",
       "      <td>2018-04-11</td>\n",
       "      <td>2018-04</td>\n",
       "      <td>0</td>\n",
       "    </tr>\n",
       "    <tr>\n",
       "      <th>7</th>\n",
       "      <td>7</td>\n",
       "      <td>081b0e629b3899db213a23bc4e58a17d</td>\n",
       "      <td>2017-09-29</td>\n",
       "      <td>2017-09-29</td>\n",
       "      <td>2017-09</td>\n",
       "      <td>0</td>\n",
       "    </tr>\n",
       "    <tr>\n",
       "      <th>11</th>\n",
       "      <td>11</td>\n",
       "      <td>099ddda4feb08e89c402f2d38ca94b2e</td>\n",
       "      <td>2018-05-09</td>\n",
       "      <td>2018-05-09</td>\n",
       "      <td>2018-05</td>\n",
       "      <td>0</td>\n",
       "    </tr>\n",
       "  </tbody>\n",
       "</table>\n",
       "</div>"
      ],
      "text/plain": [
       "    index                   landing_page_id first_contact_date_min  \\\n",
       "1       1  01850876d34b43494b5f9879c366877b             2018-04-02   \n",
       "3       3  03c7c0ace395d80182db07ae2c30f034             2017-11-23   \n",
       "4       4  04a75b75d5f4f3a16b0178fbe382da00             2018-04-11   \n",
       "7       7  081b0e629b3899db213a23bc4e58a17d             2017-09-29   \n",
       "11     11  099ddda4feb08e89c402f2d38ca94b2e             2018-05-09   \n",
       "\n",
       "   first_contact_date_max 최초연락 년-월  period  \n",
       "1              2018-04-02  2018-04       0  \n",
       "3              2017-11-23  2017-11       0  \n",
       "4              2018-04-11  2018-04       0  \n",
       "7              2017-09-29  2017-09       0  \n",
       "11             2018-05-09  2018-05       0  "
      ]
     },
     "execution_count": 57,
     "metadata": {},
     "output_type": "execute_result"
    }
   ],
   "source": [
    "zero_period.head()"
   ]
  },
  {
   "cell_type": "code",
   "execution_count": 58,
   "id": "6611acd8-172e-488a-aa3a-2663646a8171",
   "metadata": {
    "canvas": {
     "comments": [],
     "componentType": "CodeCell",
     "copiedOriginId": null,
     "diskcache": false,
     "headerColor": "transparent",
     "id": "5255d4fd-69bb-4fa3-9127-26a5a2ed3674",
     "isComponent": false,
     "name": "",
     "parents": []
    },
    "tags": []
   },
   "outputs": [],
   "source": [
    "sortedDataSize.rename(columns={ 'total_count':'랜딩 페이지 수'},inplace=True)"
   ]
  },
  {
   "cell_type": "code",
   "execution_count": 59,
   "id": "30fcfe23-c0a0-4e54-b8a3-f50cbc03d4bf",
   "metadata": {
    "canvas": {
     "comments": [],
     "componentType": "CodeCell",
     "copiedOriginId": null,
     "diskcache": false,
     "headerColor": "transparent",
     "id": "2a25fd6a-c9be-49c1-8c61-ce18480e9fba",
     "isComponent": false,
     "name": "",
     "parents": []
    },
    "tags": []
   },
   "outputs": [
    {
     "data": {
      "image/png": "[encoded data removed]",
      "text/plain": [
       "<Figure size 640x480 with 1 Axes>"
      ]
     },
     "metadata": {},
     "output_type": "display_data"
    }
   ],
   "source": [
    "plt.hist(landingPageResult['period'], bins=10)  # x_data는 분포를 확인하고 싶은 데이터\n",
    "plt.xlabel('랜딩페이지 노출 기간')\n",
    "plt.ylabel('빈도 수')\n",
    "plt.title('전체 랜딩페이지 노출 기간 분포')\n",
    "plt.show()"
   ]
  },
  {
   "cell_type": "code",
   "execution_count": 60,
   "id": "da352055-6231-4ff9-b093-a9bf0a2d55c7",
   "metadata": {
    "canvas": {
     "comments": [],
     "componentType": "CodeCell",
     "copiedOriginId": null,
     "diskcache": false,
     "headerColor": "transparent",
     "id": "8770f63a-c1e4-446a-9de2-40409f1921d0",
     "isComponent": false,
     "name": "",
     "parents": []
    },
    "tags": []
   },
   "outputs": [
    {
     "data": {
      "image/png": "[encoded data removed]",
      "text/plain": [
       "<Figure size 640x480 with 1 Axes>"
      ]
     },
     "metadata": {},
     "output_type": "display_data"
    }
   ],
   "source": [
    "plt.hist(zero_period['최초연락 년-월'], bins=10, width=0.5)  # x_data는 분포를 확인하고 싶은 데이터\n",
    "plt.tight_layout() \n",
    "plt.xlabel('랜딩페이지 노출 년-월')\n",
    "plt.ylabel('빈도 수')\n",
    "plt.title('전체 랜딩페이지 단기 노출 년-월 분포')\n",
    "plt.show()"
   ]
  },
  {
   "cell_type": "markdown",
   "id": "1110ab4f-13bd-4129-b369-f154dcd7266e",
   "metadata": {
    "canvas": {
     "comments": [],
     "componentType": "CodeCell",
     "copiedOriginId": null,
     "diskcache": false,
     "headerColor": "transparent",
     "id": "b5283b35-f0fb-47a2-808a-fd277c432506",
     "isComponent": false,
     "name": "",
     "parents": []
    }
   },
   "source": [
    "## 단기간 랜딩페이지 노출 년-월 분포 확인"
   ]
  },
  {
   "cell_type": "code",
   "execution_count": 61,
   "id": "1e9918d2-c403-42cd-bbb6-791569c29689",
   "metadata": {
    "canvas": {
     "comments": [],
     "componentType": "CodeCell",
     "copiedOriginId": "2f54bab4-9ddd-4f2a-98de-7acac4a76903",
     "diskcache": false,
     "headerColor": "transparent",
     "id": "5a64911f-1b20-468f-9031-33bdb3bf1914",
     "isComponent": false,
     "name": "",
     "parents": []
    },
    "tags": []
   },
   "outputs": [],
   "source": [
    "#first_contact_date_min\tfirst_contact_date_max\n",
    "limitedPeriod = landingPageResult.loc[(landingPageResult['first_contact_date_min'] >= '2018-03-01') & (landingPageResult['first_contact_date_min'] <'2018-05-01')]"
   ]
  },
  {
   "cell_type": "code",
   "execution_count": 62,
   "id": "3d939dcc-d4ec-4842-85cb-1aa4655e89ba",
   "metadata": {
    "canvas": {
     "comments": [],
     "componentType": "CodeCell",
     "copiedOriginId": null,
     "diskcache": false,
     "headerColor": "transparent",
     "id": "f095484a-ebdd-4fe7-8079-0e36db37d5e1",
     "isComponent": false,
     "name": "",
     "parents": []
    }
   },
   "outputs": [
    {
     "data": {
      "image/png": "[encoded data removed]",
      "text/plain": [
       "<Figure size 640x480 with 1 Axes>"
      ]
     },
     "metadata": {},
     "output_type": "display_data"
    }
   ],
   "source": [
    "plt.hist(limitedPeriod['period'], bins=10)  # x_data는 분포를 확인하고 싶은 데이터\n",
    "plt.xlabel('랜딩페이지 노출 기간')\n",
    "plt.ylabel('빈도 수')\n",
    "plt.title('전체 랜딩페이지 노출 기간 분포')\n",
    "plt.show()"
   ]
  },
  {
   "cell_type": "code",
   "execution_count": 63,
   "id": "115cfe52-9cfb-45a1-bbd6-1ab47b7a825c",
   "metadata": {
    "canvas": {
     "comments": [],
     "componentType": "CodeCell",
     "copiedOriginId": null,
     "diskcache": false,
     "headerColor": "transparent",
     "id": "32638e12-4c7b-4669-928d-8c83955d6fbe",
     "isComponent": false,
     "name": "",
     "parents": []
    }
   },
   "outputs": [],
   "source": [
    "sortedDataSize.rename(columns={ 'total_count':'랜딩 페이지 수'},inplace=True)"
   ]
  },
  {
   "cell_type": "code",
   "execution_count": 64,
   "id": "a8060a79",
   "metadata": {
    "canvas": {
     "comments": [],
     "componentType": "CodeCell",
     "copiedOriginId": "2565a585-799d-4b88-b44e-906e8a494f8b",
     "diskcache": false,
     "headerColor": "transparent",
     "id": "9f95c684-a374-4a87-9a24-973194478c28",
     "isComponent": false,
     "name": "",
     "parents": []
    },
    "tags": []
   },
   "outputs": [
    {
     "data": {
      "text/plain": [
       "<Axes: xlabel='최초연락 년-월'>"
      ]
     },
     "execution_count": 64,
     "metadata": {},
     "output_type": "execute_result"
    },
    {
     "data": {
      "image/png": "[encoded data removed]",
      "text/plain": [
       "<Figure size 640x480 with 1 Axes>"
      ]
     },
     "metadata": {},
     "output_type": "display_data"
    }
   ],
   "source": [
    "sortedDataSize.plot(kind='bar',x='최초연락 년-월', y='랜딩 페이지 수', color='skyblue',legend=False)"
   ]
  },
  {
   "cell_type": "markdown",
   "id": "5d02e360-4e35-4aaf-8b6a-92a66e574453",
   "metadata": {
    "canvas": {
     "comments": [],
     "componentType": "CodeCell",
     "copiedOriginId": null,
     "diskcache": false,
     "headerColor": "transparent",
     "id": "5463257b-a35b-4953-b88b-a59e8e43f12d",
     "isComponent": false,
     "name": "",
     "parents": []
    }
   },
   "source": [
    "## 매출 데이터 확인"
   ]
  },
  {
   "cell_type": "code",
   "execution_count": 65,
   "id": "cdecfdbb-00b6-4015-bcdc-b4151d5a8490",
   "metadata": {
    "canvas": {
     "comments": [],
     "componentType": "CodeCell",
     "copiedOriginId": null,
     "diskcache": false,
     "headerColor": "transparent",
     "id": "5c96c20a-63c4-4727-a904-a9c3e459b094",
     "isComponent": false,
     "name": "",
     "parents": []
    }
   },
   "outputs": [
    {
     "data": {
      "text/html": [
       "<div>\n",
       "<style scoped>\n",
       "    .dataframe tbody tr th:only-of-type {\n",
       "        vertical-align: middle;\n",
       "    }\n",
       "\n",
       "    .dataframe tbody tr th {\n",
       "        vertical-align: top;\n",
       "    }\n",
       "\n",
       "    .dataframe thead th {\n",
       "        text-align: right;\n",
       "    }\n",
       "</style>\n",
       "<table border=\"1\" class=\"dataframe\">\n",
       "  <thead>\n",
       "    <tr style=\"text-align: right;\">\n",
       "      <th></th>\n",
       "      <th>order_id</th>\n",
       "      <th>payment_sequential</th>\n",
       "      <th>payment_type</th>\n",
       "      <th>payment_installments</th>\n",
       "      <th>payment_value</th>\n",
       "    </tr>\n",
       "  </thead>\n",
       "  <tbody>\n",
       "    <tr>\n",
       "      <th>0</th>\n",
       "      <td>b81ef226f3fe1789b1e8b2acac839d17</td>\n",
       "      <td>1</td>\n",
       "      <td>credit_card</td>\n",
       "      <td>8</td>\n",
       "      <td>99.33</td>\n",
       "    </tr>\n",
       "    <tr>\n",
       "      <th>1</th>\n",
       "      <td>a9810da82917af2d9aefd1278f1dcfa0</td>\n",
       "      <td>1</td>\n",
       "      <td>credit_card</td>\n",
       "      <td>1</td>\n",
       "      <td>24.39</td>\n",
       "    </tr>\n",
       "    <tr>\n",
       "      <th>2</th>\n",
       "      <td>25e8ea4e93396b6fa0d3dd708e76c1bd</td>\n",
       "      <td>1</td>\n",
       "      <td>credit_card</td>\n",
       "      <td>1</td>\n",
       "      <td>65.71</td>\n",
       "    </tr>\n",
       "    <tr>\n",
       "      <th>3</th>\n",
       "      <td>ba78997921bbcdc1373bb41e913ab953</td>\n",
       "      <td>1</td>\n",
       "      <td>credit_card</td>\n",
       "      <td>8</td>\n",
       "      <td>107.78</td>\n",
       "    </tr>\n",
       "    <tr>\n",
       "      <th>4</th>\n",
       "      <td>42fdf880ba16b47b59251dd489d4441a</td>\n",
       "      <td>1</td>\n",
       "      <td>credit_card</td>\n",
       "      <td>2</td>\n",
       "      <td>128.45</td>\n",
       "    </tr>\n",
       "  </tbody>\n",
       "</table>\n",
       "</div>"
      ],
      "text/plain": [
       "                           order_id  payment_sequential payment_type  \\\n",
       "0  b81ef226f3fe1789b1e8b2acac839d17                   1  credit_card   \n",
       "1  a9810da82917af2d9aefd1278f1dcfa0                   1  credit_card   \n",
       "2  25e8ea4e93396b6fa0d3dd708e76c1bd                   1  credit_card   \n",
       "3  ba78997921bbcdc1373bb41e913ab953                   1  credit_card   \n",
       "4  42fdf880ba16b47b59251dd489d4441a                   1  credit_card   \n",
       "\n",
       "   payment_installments  payment_value  \n",
       "0                     8          99.33  \n",
       "1                     1          24.39  \n",
       "2                     1          65.71  \n",
       "3                     8         107.78  \n",
       "4                     2         128.45  "
      ]
     },
     "execution_count": 65,
     "metadata": {},
     "output_type": "execute_result"
    }
   ],
   "source": [
    "paymentsDataSet.head()"
   ]
  },
  {
   "cell_type": "code",
   "execution_count": 66,
   "id": "3a87295a-2a18-4cee-859b-727b9f89c0bf",
   "metadata": {
    "canvas": {
     "comments": [],
     "componentType": "CodeCell",
     "copiedOriginId": null,
     "diskcache": false,
     "headerColor": "transparent",
     "id": "8cd102ca-daf6-4b83-895d-002701753076",
     "isComponent": false,
     "name": "",
     "parents": []
    }
   },
   "outputs": [],
   "source": [
    "#checkContact = pd.merge(qualifiedLeads, closedDealsWonDate, how = 'left', on ='mql_id')\n",
    "paymentOrders = pd.merge(ordersDataSet, paymentsDataSet, how = 'left', on ='order_id')"
   ]
  },
  {
   "cell_type": "code",
   "execution_count": 67,
   "id": "711c5c89-5b9d-4d84-a7a7-7d1ef792a49c",
   "metadata": {
    "canvas": {
     "comments": [],
     "componentType": "CodeCell",
     "copiedOriginId": null,
     "diskcache": false,
     "headerColor": "transparent",
     "id": "20192ff8-5bb0-43f9-bfc0-292a7e514c5f",
     "isComponent": false,
     "name": "",
     "parents": []
    },
    "tags": []
   },
   "outputs": [
    {
     "data": {
      "text/html": [
       "<div>\n",
       "<style scoped>\n",
       "    .dataframe tbody tr th:only-of-type {\n",
       "        vertical-align: middle;\n",
       "    }\n",
       "\n",
       "    .dataframe tbody tr th {\n",
       "        vertical-align: top;\n",
       "    }\n",
       "\n",
       "    .dataframe thead th {\n",
       "        text-align: right;\n",
       "    }\n",
       "</style>\n",
       "<table border=\"1\" class=\"dataframe\">\n",
       "  <thead>\n",
       "    <tr style=\"text-align: right;\">\n",
       "      <th></th>\n",
       "      <th>order_id</th>\n",
       "      <th>payment_sequential</th>\n",
       "      <th>payment_type</th>\n",
       "      <th>payment_installments</th>\n",
       "      <th>payment_value</th>\n",
       "    </tr>\n",
       "  </thead>\n",
       "  <tbody>\n",
       "    <tr>\n",
       "      <th>10770</th>\n",
       "      <td>e481f51cbdc54678b7cc49136f2d6af7</td>\n",
       "      <td>1</td>\n",
       "      <td>credit_card</td>\n",
       "      <td>1</td>\n",
       "      <td>18.12</td>\n",
       "    </tr>\n",
       "    <tr>\n",
       "      <th>44246</th>\n",
       "      <td>e481f51cbdc54678b7cc49136f2d6af7</td>\n",
       "      <td>3</td>\n",
       "      <td>voucher</td>\n",
       "      <td>1</td>\n",
       "      <td>2.00</td>\n",
       "    </tr>\n",
       "    <tr>\n",
       "      <th>91130</th>\n",
       "      <td>e481f51cbdc54678b7cc49136f2d6af7</td>\n",
       "      <td>2</td>\n",
       "      <td>voucher</td>\n",
       "      <td>1</td>\n",
       "      <td>18.59</td>\n",
       "    </tr>\n",
       "  </tbody>\n",
       "</table>\n",
       "</div>"
      ],
      "text/plain": [
       "                               order_id  payment_sequential payment_type  \\\n",
       "10770  e481f51cbdc54678b7cc49136f2d6af7                   1  credit_card   \n",
       "44246  e481f51cbdc54678b7cc49136f2d6af7                   3      voucher   \n",
       "91130  e481f51cbdc54678b7cc49136f2d6af7                   2      voucher   \n",
       "\n",
       "       payment_installments  payment_value  \n",
       "10770                     1          18.12  \n",
       "44246                     1           2.00  \n",
       "91130                     1          18.59  "
      ]
     },
     "execution_count": 67,
     "metadata": {},
     "output_type": "execute_result"
    }
   ],
   "source": [
    "paymentsDataSet[paymentsDataSet['order_id']=='e481f51cbdc54678b7cc49136f2d6af7']"
   ]
  },
  {
   "cell_type": "code",
   "execution_count": 68,
   "id": "a1d341a0-cd2c-4fa8-94a4-59a06e46acbe",
   "metadata": {
    "canvas": {
     "comments": [],
     "componentType": "CodeCell",
     "copiedOriginId": null,
     "diskcache": false,
     "headerColor": "transparent",
     "id": "cfced0be-6e9d-46c4-b39e-5b0f81413176",
     "isComponent": false,
     "name": "",
     "parents": []
    },
    "tags": []
   },
   "outputs": [],
   "source": [
    "ordersDataSet['order_approved_at_yearMonth'] = pd.to_datetime(ordersDataSet['order_approved_at']).dt.strftime('%Y-%m') \n",
    "#checkContact = pd.merge(qualifiedLeads, closedDealsWonDate, how = 'left', on ='mql_id')"
   ]
  },
  {
   "cell_type": "code",
   "execution_count": 69,
   "id": "31d3fdcc-4069-4e3c-a9b0-83527de619b1",
   "metadata": {
    "canvas": {
     "comments": [],
     "componentType": "CodeCell",
     "copiedOriginId": null,
     "diskcache": false,
     "headerColor": "transparent",
     "id": "590e9e02-8500-441b-8b84-f7915120c7db",
     "isComponent": false,
     "name": "",
     "parents": []
    },
    "tags": []
   },
   "outputs": [],
   "source": [
    "#monthly_sales =\n",
    "monthly_sales = paymentOrders.groupby('order_approved_at_yearMonth')['payment_value'].sum().reset_index()"
   ]
  },
  {
   "cell_type": "code",
   "execution_count": 70,
   "id": "95934ed2-c4c2-46a7-ba12-73f8cec0bbc3",
   "metadata": {
    "canvas": {
     "comments": [],
     "componentType": "CodeCell",
     "copiedOriginId": null,
     "diskcache": false,
     "headerColor": "transparent",
     "id": "53dcde34-794d-44bc-85c8-1c058b1e556f",
     "isComponent": false,
     "name": "",
     "parents": []
    }
   },
   "outputs": [],
   "source": [
    "monthly_sales.rename(columns={'order_approved_at_yearMonth':'년-월','payment_value':'매출'},inplace=True)"
   ]
  },
  {
   "cell_type": "code",
   "execution_count": 71,
   "id": "09f25425-ae08-43e4-96aa-f045c8c2cd89",
   "metadata": {
    "canvas": {
     "comments": [],
     "componentType": "CodeCell",
     "copiedOriginId": null,
     "diskcache": false,
     "headerColor": "transparent",
     "id": "797b0a5e-c287-4416-a045-107db130187c",
     "isComponent": false,
     "name": "",
     "parents": []
    }
   },
   "outputs": [
    {
     "data": {
      "image/png": "[encoded data removed]",
      "text/plain": [
       "<Figure size 1000x600 with 1 Axes>"
      ]
     },
     "metadata": {},
     "output_type": "display_data"
    }
   ],
   "source": [
    "# 시각화 (선 그래프)\n",
    "plt.figure(figsize=(10, 6))\n",
    "plt.plot(monthly_sales['년-월'], monthly_sales['매출'], marker='o', linestyle='-', color='b')\n",
    "\n",
    "# 그래프 제목 및 레이블 설정\n",
    "plt.title('년-월별 매출 합계', fontsize=16)\n",
    "plt.xlabel('날짜', fontsize=12)\n",
    "plt.ylabel('매출 합계', fontsize=12)\n",
    "\n",
    "plt.ticklabel_format(style='plain', axis='y')\n",
    "\n",
    "# x축의 날짜 포맷을 조정\n",
    "plt.xticks(rotation=45)\n",
    "\n",
    "plt.grid(True)\n",
    "plt.tight_layout()\n",
    "plt.show()"
   ]
  },
  {
   "cell_type": "code",
   "execution_count": 72,
   "id": "56d8fa50-0a0b-4699-b706-ae43d5463dba",
   "metadata": {
    "canvas": {
     "comments": [],
     "componentType": "CodeCell",
     "copiedOriginId": null,
     "diskcache": false,
     "headerColor": "transparent",
     "id": "64335d2c-3120-4b2c-9475-1e611a2b5d2f",
     "isComponent": false,
     "name": "",
     "parents": []
    }
   },
   "outputs": [
    {
     "data": {
      "text/html": [
       "<div>\n",
       "<style scoped>\n",
       "    .dataframe tbody tr th:only-of-type {\n",
       "        vertical-align: middle;\n",
       "    }\n",
       "\n",
       "    .dataframe tbody tr th {\n",
       "        vertical-align: top;\n",
       "    }\n",
       "\n",
       "    .dataframe thead th {\n",
       "        text-align: right;\n",
       "    }\n",
       "</style>\n",
       "<table border=\"1\" class=\"dataframe\">\n",
       "  <thead>\n",
       "    <tr style=\"text-align: right;\">\n",
       "      <th></th>\n",
       "      <th>order_id</th>\n",
       "      <th>order_item_id</th>\n",
       "      <th>product_id</th>\n",
       "      <th>seller_id</th>\n",
       "      <th>shipping_limit_date</th>\n",
       "      <th>price</th>\n",
       "      <th>freight_value</th>\n",
       "    </tr>\n",
       "  </thead>\n",
       "  <tbody>\n",
       "    <tr>\n",
       "      <th>0</th>\n",
       "      <td>00010242fe8c5a6d1ba2dd792cb16214</td>\n",
       "      <td>1</td>\n",
       "      <td>4244733e06e7ecb4970a6e2683c13e61</td>\n",
       "      <td>48436dade18ac8b2bce089ec2a041202</td>\n",
       "      <td>2017-09-19 09:45:35</td>\n",
       "      <td>58.90</td>\n",
       "      <td>13.29</td>\n",
       "    </tr>\n",
       "    <tr>\n",
       "      <th>1</th>\n",
       "      <td>00018f77f2f0320c557190d7a144bdd3</td>\n",
       "      <td>1</td>\n",
       "      <td>e5f2d52b802189ee658865ca93d83a8f</td>\n",
       "      <td>dd7ddc04e1b6c2c614352b383efe2d36</td>\n",
       "      <td>2017-05-03 11:05:13</td>\n",
       "      <td>239.90</td>\n",
       "      <td>19.93</td>\n",
       "    </tr>\n",
       "    <tr>\n",
       "      <th>2</th>\n",
       "      <td>000229ec398224ef6ca0657da4fc703e</td>\n",
       "      <td>1</td>\n",
       "      <td>c777355d18b72b67abbeef9df44fd0fd</td>\n",
       "      <td>5b51032eddd242adc84c38acab88f23d</td>\n",
       "      <td>2018-01-18 14:48:30</td>\n",
       "      <td>199.00</td>\n",
       "      <td>17.87</td>\n",
       "    </tr>\n",
       "    <tr>\n",
       "      <th>3</th>\n",
       "      <td>00024acbcdf0a6daa1e931b038114c75</td>\n",
       "      <td>1</td>\n",
       "      <td>7634da152a4610f1595efa32f14722fc</td>\n",
       "      <td>9d7a1d34a5052409006425275ba1c2b4</td>\n",
       "      <td>2018-08-15 10:10:18</td>\n",
       "      <td>12.99</td>\n",
       "      <td>12.79</td>\n",
       "    </tr>\n",
       "    <tr>\n",
       "      <th>4</th>\n",
       "      <td>00042b26cf59d7ce69dfabb4e55b4fd9</td>\n",
       "      <td>1</td>\n",
       "      <td>ac6c3623068f30de03045865e4e10089</td>\n",
       "      <td>df560393f3a51e74553ab94004ba5c87</td>\n",
       "      <td>2017-02-13 13:57:51</td>\n",
       "      <td>199.90</td>\n",
       "      <td>18.14</td>\n",
       "    </tr>\n",
       "  </tbody>\n",
       "</table>\n",
       "</div>"
      ],
      "text/plain": [
       "                           order_id  order_item_id  \\\n",
       "0  00010242fe8c5a6d1ba2dd792cb16214              1   \n",
       "1  00018f77f2f0320c557190d7a144bdd3              1   \n",
       "2  000229ec398224ef6ca0657da4fc703e              1   \n",
       "3  00024acbcdf0a6daa1e931b038114c75              1   \n",
       "4  00042b26cf59d7ce69dfabb4e55b4fd9              1   \n",
       "\n",
       "                         product_id                         seller_id  \\\n",
       "0  4244733e06e7ecb4970a6e2683c13e61  48436dade18ac8b2bce089ec2a041202   \n",
       "1  e5f2d52b802189ee658865ca93d83a8f  dd7ddc04e1b6c2c614352b383efe2d36   \n",
       "2  c777355d18b72b67abbeef9df44fd0fd  5b51032eddd242adc84c38acab88f23d   \n",
       "3  7634da152a4610f1595efa32f14722fc  9d7a1d34a5052409006425275ba1c2b4   \n",
       "4  ac6c3623068f30de03045865e4e10089  df560393f3a51e74553ab94004ba5c87   \n",
       "\n",
       "   shipping_limit_date   price  freight_value  \n",
       "0  2017-09-19 09:45:35   58.90          13.29  \n",
       "1  2017-05-03 11:05:13  239.90          19.93  \n",
       "2  2018-01-18 14:48:30  199.00          17.87  \n",
       "3  2018-08-15 10:10:18   12.99          12.79  \n",
       "4  2017-02-13 13:57:51  199.90          18.14  "
      ]
     },
     "execution_count": 72,
     "metadata": {},
     "output_type": "execute_result"
    }
   ],
   "source": [
    "ordersItemDataSet.head()"
   ]
  },
  {
   "cell_type": "code",
   "execution_count": 73,
   "id": "70023625-87f3-484e-a9ea-65d9b0275638",
   "metadata": {
    "canvas": {
     "comments": [],
     "componentType": "CodeCell",
     "copiedOriginId": null,
     "diskcache": false,
     "headerColor": "transparent",
     "id": "3f1a371a-fc93-46fa-af9c-369e4f18c7a5",
     "isComponent": false,
     "name": "",
     "parents": []
    }
   },
   "outputs": [],
   "source": [
    "itemsDataSet = pd.merge(ordersItemDataSet, productsDataSet, how = 'left', on ='product_id')[['order_id','product_id','seller_id','product_category_name']]"
   ]
  },
  {
   "cell_type": "code",
   "execution_count": 74,
   "id": "fac81e7e-be64-4500-b87d-0a12f3f8def5",
   "metadata": {
    "canvas": {
     "comments": [],
     "componentType": "CodeCell",
     "copiedOriginId": null,
     "diskcache": false,
     "headerColor": "transparent",
     "id": "1e0775cf-ba04-43c3-adec-5e5659b7cbad",
     "isComponent": false,
     "name": "",
     "parents": []
    }
   },
   "outputs": [],
   "source": [
    "firstPaymentDataSet = pd.merge(itemsDataSet, paymentOrders, how = 'left', on ='order_id')[['order_id','product_id','seller_id','product_category_name','payment_value','order_purchase_timestamp']]"
   ]
  },
  {
   "cell_type": "code",
   "execution_count": 75,
   "id": "f342cfbf-52c1-49d7-8014-0117acbb3d61",
   "metadata": {
    "canvas": {
     "comments": [],
     "componentType": "CodeCell",
     "copiedOriginId": null,
     "diskcache": false,
     "headerColor": "transparent",
     "id": "cc6ae2b3-115e-4369-973c-353e23865979",
     "isComponent": false,
     "name": "",
     "parents": []
    }
   },
   "outputs": [],
   "source": [
    "cateTranslateDataSet.columns = ['product_category_name','product_category_name_english']"
   ]
  },
  {
   "cell_type": "code",
   "execution_count": 76,
   "id": "ef377bc2-1600-45bf-8599-cb44d904b5a2",
   "metadata": {
    "canvas": {
     "comments": [],
     "componentType": "CodeCell",
     "copiedOriginId": null,
     "diskcache": false,
     "headerColor": "transparent",
     "id": "279358b9-5c6b-4819-8f03-35cb029079f3",
     "isComponent": false,
     "name": "",
     "parents": []
    }
   },
   "outputs": [
    {
     "data": {
      "text/html": [
       "<div>\n",
       "<style scoped>\n",
       "    .dataframe tbody tr th:only-of-type {\n",
       "        vertical-align: middle;\n",
       "    }\n",
       "\n",
       "    .dataframe tbody tr th {\n",
       "        vertical-align: top;\n",
       "    }\n",
       "\n",
       "    .dataframe thead th {\n",
       "        text-align: right;\n",
       "    }\n",
       "</style>\n",
       "<table border=\"1\" class=\"dataframe\">\n",
       "  <thead>\n",
       "    <tr style=\"text-align: right;\">\n",
       "      <th></th>\n",
       "      <th>order_id</th>\n",
       "      <th>product_id</th>\n",
       "      <th>seller_id</th>\n",
       "      <th>product_category_name</th>\n",
       "      <th>payment_value</th>\n",
       "      <th>order_purchase_timestamp</th>\n",
       "      <th>product_category_name_english</th>\n",
       "      <th>order_purchase_timestamp_month</th>\n",
       "    </tr>\n",
       "  </thead>\n",
       "  <tbody>\n",
       "    <tr>\n",
       "      <th>0</th>\n",
       "      <td>00010242fe8c5a6d1ba2dd792cb16214</td>\n",
       "      <td>4244733e06e7ecb4970a6e2683c13e61</td>\n",
       "      <td>48436dade18ac8b2bce089ec2a041202</td>\n",
       "      <td>cool_stuff</td>\n",
       "      <td>72.19</td>\n",
       "      <td>2017-09-13 08:59:02</td>\n",
       "      <td>cool_stuff</td>\n",
       "      <td>2017-10</td>\n",
       "    </tr>\n",
       "    <tr>\n",
       "      <th>1</th>\n",
       "      <td>00018f77f2f0320c557190d7a144bdd3</td>\n",
       "      <td>e5f2d52b802189ee658865ca93d83a8f</td>\n",
       "      <td>dd7ddc04e1b6c2c614352b383efe2d36</td>\n",
       "      <td>pet_shop</td>\n",
       "      <td>259.83</td>\n",
       "      <td>2017-04-26 10:53:06</td>\n",
       "      <td>pet_shop</td>\n",
       "      <td>2018-07</td>\n",
       "    </tr>\n",
       "    <tr>\n",
       "      <th>2</th>\n",
       "      <td>000229ec398224ef6ca0657da4fc703e</td>\n",
       "      <td>c777355d18b72b67abbeef9df44fd0fd</td>\n",
       "      <td>5b51032eddd242adc84c38acab88f23d</td>\n",
       "      <td>moveis_decoracao</td>\n",
       "      <td>216.87</td>\n",
       "      <td>2018-01-14 14:33:31</td>\n",
       "      <td>furniture_decor</td>\n",
       "      <td>2018-08</td>\n",
       "    </tr>\n",
       "    <tr>\n",
       "      <th>3</th>\n",
       "      <td>00024acbcdf0a6daa1e931b038114c75</td>\n",
       "      <td>7634da152a4610f1595efa32f14722fc</td>\n",
       "      <td>9d7a1d34a5052409006425275ba1c2b4</td>\n",
       "      <td>perfumaria</td>\n",
       "      <td>25.78</td>\n",
       "      <td>2018-08-08 10:00:35</td>\n",
       "      <td>perfumery</td>\n",
       "      <td>2017-11</td>\n",
       "    </tr>\n",
       "    <tr>\n",
       "      <th>4</th>\n",
       "      <td>00042b26cf59d7ce69dfabb4e55b4fd9</td>\n",
       "      <td>ac6c3623068f30de03045865e4e10089</td>\n",
       "      <td>df560393f3a51e74553ab94004ba5c87</td>\n",
       "      <td>ferramentas_jardim</td>\n",
       "      <td>218.04</td>\n",
       "      <td>2017-02-04 13:57:51</td>\n",
       "      <td>garden_tools</td>\n",
       "      <td>2018-02</td>\n",
       "    </tr>\n",
       "  </tbody>\n",
       "</table>\n",
       "</div>"
      ],
      "text/plain": [
       "                           order_id                        product_id  \\\n",
       "0  00010242fe8c5a6d1ba2dd792cb16214  4244733e06e7ecb4970a6e2683c13e61   \n",
       "1  00018f77f2f0320c557190d7a144bdd3  e5f2d52b802189ee658865ca93d83a8f   \n",
       "2  000229ec398224ef6ca0657da4fc703e  c777355d18b72b67abbeef9df44fd0fd   \n",
       "3  00024acbcdf0a6daa1e931b038114c75  7634da152a4610f1595efa32f14722fc   \n",
       "4  00042b26cf59d7ce69dfabb4e55b4fd9  ac6c3623068f30de03045865e4e10089   \n",
       "\n",
       "                          seller_id product_category_name  payment_value  \\\n",
       "0  48436dade18ac8b2bce089ec2a041202            cool_stuff          72.19   \n",
       "1  dd7ddc04e1b6c2c614352b383efe2d36              pet_shop         259.83   \n",
       "2  5b51032eddd242adc84c38acab88f23d      moveis_decoracao         216.87   \n",
       "3  9d7a1d34a5052409006425275ba1c2b4            perfumaria          25.78   \n",
       "4  df560393f3a51e74553ab94004ba5c87    ferramentas_jardim         218.04   \n",
       "\n",
       "  order_purchase_timestamp product_category_name_english  \\\n",
       "0      2017-09-13 08:59:02                    cool_stuff   \n",
       "1      2017-04-26 10:53:06                      pet_shop   \n",
       "2      2018-01-14 14:33:31               furniture_decor   \n",
       "3      2018-08-08 10:00:35                     perfumery   \n",
       "4      2017-02-04 13:57:51                  garden_tools   \n",
       "\n",
       "  order_purchase_timestamp_month  \n",
       "0                        2017-10  \n",
       "1                        2018-07  \n",
       "2                        2018-08  \n",
       "3                        2017-11  \n",
       "4                        2018-02  "
      ]
     },
     "execution_count": 76,
     "metadata": {},
     "output_type": "execute_result"
    }
   ],
   "source": [
    "secondPaymentDataSet.head()"
   ]
  },
  {
   "cell_type": "markdown",
   "id": "1a3be5a9-7b05-4d3e-9ae3-45c3df2a4542",
   "metadata": {
    "canvas": {
     "comments": [],
     "componentType": "CodeCell",
     "copiedOriginId": null,
     "diskcache": false,
     "headerColor": "transparent",
     "id": "ff909f11-e053-478f-b6fd-62dc18b2aedd",
     "isComponent": false,
     "name": "",
     "parents": []
    }
   },
   "source": [
    "## 전기간 카테고리별 매출 확인"
   ]
  },
  {
   "cell_type": "code",
   "execution_count": 111,
   "id": "37ddf82c-04ad-4713-a406-bbaba9115936",
   "metadata": {
    "canvas": {
     "comments": [],
     "componentType": "CodeCell",
     "copiedOriginId": null,
     "diskcache": false,
     "headerColor": "transparent",
     "id": "8a058426-df47-49e4-8ee8-b07b2911617e",
     "isComponent": false,
     "name": "",
     "parents": []
    },
    "tags": []
   },
   "outputs": [],
   "source": [
    "\n",
    "secondPaymentDataSet['order_purchase_timestamp_month'] = pd.to_datetime(ordersDataSet['order_approved_at']).dt.strftime('%Y-%m') \n",
    "#minmax 걸고, 그 다음에 sellerid 테이블을 기준으로 걸면 될듯 \n",
    "secondPaymentDataSet.head()\n",
    "productCategoryTable = secondPaymentDataSet.groupby(['seller_id','product_category_name']).agg({'order_purchase_timestamp':['min','max']}).reset_index()"
   ]
  },
  {
   "cell_type": "code",
   "execution_count": 112,
   "id": "95162dc9-ee82-4cbc-b2d8-a2c8d5a011b3",
   "metadata": {
    "canvas": {
     "comments": [],
     "componentType": "CodeCell",
     "copiedOriginId": null,
     "diskcache": false,
     "headerColor": "transparent",
     "id": "c52eac07-127a-429d-bf91-29672e03cbca",
     "isComponent": false,
     "name": "",
     "parents": []
    },
    "tags": []
   },
   "outputs": [
    {
     "data": {
      "text/html": [
       "<div>\n",
       "<style scoped>\n",
       "    .dataframe tbody tr th:only-of-type {\n",
       "        vertical-align: middle;\n",
       "    }\n",
       "\n",
       "    .dataframe tbody tr th {\n",
       "        vertical-align: top;\n",
       "    }\n",
       "\n",
       "    .dataframe thead th {\n",
       "        text-align: right;\n",
       "    }\n",
       "</style>\n",
       "<table border=\"1\" class=\"dataframe\">\n",
       "  <thead>\n",
       "    <tr style=\"text-align: right;\">\n",
       "      <th></th>\n",
       "      <th>order_id</th>\n",
       "      <th>product_id</th>\n",
       "      <th>seller_id</th>\n",
       "      <th>product_category_name</th>\n",
       "      <th>payment_value</th>\n",
       "      <th>order_purchase_timestamp</th>\n",
       "      <th>product_category_name_english</th>\n",
       "      <th>order_purchase_timestamp_month</th>\n",
       "    </tr>\n",
       "  </thead>\n",
       "  <tbody>\n",
       "    <tr>\n",
       "      <th>0</th>\n",
       "      <td>00010242fe8c5a6d1ba2dd792cb16214</td>\n",
       "      <td>4244733e06e7ecb4970a6e2683c13e61</td>\n",
       "      <td>48436dade18ac8b2bce089ec2a041202</td>\n",
       "      <td>cool_stuff</td>\n",
       "      <td>72.19</td>\n",
       "      <td>2017-09-13 08:59:02</td>\n",
       "      <td>cool_stuff</td>\n",
       "      <td>2017-10</td>\n",
       "    </tr>\n",
       "    <tr>\n",
       "      <th>1</th>\n",
       "      <td>00018f77f2f0320c557190d7a144bdd3</td>\n",
       "      <td>e5f2d52b802189ee658865ca93d83a8f</td>\n",
       "      <td>dd7ddc04e1b6c2c614352b383efe2d36</td>\n",
       "      <td>pet_shop</td>\n",
       "      <td>259.83</td>\n",
       "      <td>2017-04-26 10:53:06</td>\n",
       "      <td>pet_shop</td>\n",
       "      <td>2018-07</td>\n",
       "    </tr>\n",
       "    <tr>\n",
       "      <th>2</th>\n",
       "      <td>000229ec398224ef6ca0657da4fc703e</td>\n",
       "      <td>c777355d18b72b67abbeef9df44fd0fd</td>\n",
       "      <td>5b51032eddd242adc84c38acab88f23d</td>\n",
       "      <td>moveis_decoracao</td>\n",
       "      <td>216.87</td>\n",
       "      <td>2018-01-14 14:33:31</td>\n",
       "      <td>furniture_decor</td>\n",
       "      <td>2018-08</td>\n",
       "    </tr>\n",
       "    <tr>\n",
       "      <th>3</th>\n",
       "      <td>00024acbcdf0a6daa1e931b038114c75</td>\n",
       "      <td>7634da152a4610f1595efa32f14722fc</td>\n",
       "      <td>9d7a1d34a5052409006425275ba1c2b4</td>\n",
       "      <td>perfumaria</td>\n",
       "      <td>25.78</td>\n",
       "      <td>2018-08-08 10:00:35</td>\n",
       "      <td>perfumery</td>\n",
       "      <td>2017-11</td>\n",
       "    </tr>\n",
       "    <tr>\n",
       "      <th>4</th>\n",
       "      <td>00042b26cf59d7ce69dfabb4e55b4fd9</td>\n",
       "      <td>ac6c3623068f30de03045865e4e10089</td>\n",
       "      <td>df560393f3a51e74553ab94004ba5c87</td>\n",
       "      <td>ferramentas_jardim</td>\n",
       "      <td>218.04</td>\n",
       "      <td>2017-02-04 13:57:51</td>\n",
       "      <td>garden_tools</td>\n",
       "      <td>2018-02</td>\n",
       "    </tr>\n",
       "    <tr>\n",
       "      <th>...</th>\n",
       "      <td>...</td>\n",
       "      <td>...</td>\n",
       "      <td>...</td>\n",
       "      <td>...</td>\n",
       "      <td>...</td>\n",
       "      <td>...</td>\n",
       "      <td>...</td>\n",
       "      <td>...</td>\n",
       "    </tr>\n",
       "    <tr>\n",
       "      <th>117599</th>\n",
       "      <td>fffc94f6ce00a00581880bf54a75a037</td>\n",
       "      <td>4aa6014eceb682077f9dc4bffebc05b0</td>\n",
       "      <td>b8bc237ba3788b23da09c0f1f3a3288c</td>\n",
       "      <td>utilidades_domesticas</td>\n",
       "      <td>343.40</td>\n",
       "      <td>2018-04-23 13:57:06</td>\n",
       "      <td>housewares</td>\n",
       "      <td>NaN</td>\n",
       "    </tr>\n",
       "    <tr>\n",
       "      <th>117600</th>\n",
       "      <td>fffcd46ef2263f404302a634eb57f7eb</td>\n",
       "      <td>32e07fd915822b0765e448c4dd74c828</td>\n",
       "      <td>f3c38ab652836d21de61fb8314b69182</td>\n",
       "      <td>informatica_acessorios</td>\n",
       "      <td>386.53</td>\n",
       "      <td>2018-07-14 10:26:46</td>\n",
       "      <td>computers_accessories</td>\n",
       "      <td>NaN</td>\n",
       "    </tr>\n",
       "    <tr>\n",
       "      <th>117601</th>\n",
       "      <td>fffce4705a9662cd70adb13d4a31832d</td>\n",
       "      <td>72a30483855e2eafc67aee5dc2560482</td>\n",
       "      <td>c3cfdc648177fdbbbb35635a37472c53</td>\n",
       "      <td>esporte_lazer</td>\n",
       "      <td>116.85</td>\n",
       "      <td>2017-10-23 17:07:56</td>\n",
       "      <td>sports_leisure</td>\n",
       "      <td>NaN</td>\n",
       "    </tr>\n",
       "    <tr>\n",
       "      <th>117602</th>\n",
       "      <td>fffe18544ffabc95dfada21779c9644f</td>\n",
       "      <td>9c422a519119dcad7575db5af1ba540e</td>\n",
       "      <td>2b3e4a2a3ea8e01938cabda2a3e5cc79</td>\n",
       "      <td>informatica_acessorios</td>\n",
       "      <td>64.71</td>\n",
       "      <td>2017-08-14 23:02:59</td>\n",
       "      <td>computers_accessories</td>\n",
       "      <td>NaN</td>\n",
       "    </tr>\n",
       "    <tr>\n",
       "      <th>117603</th>\n",
       "      <td>fffe41c64501cc87c801fd61db3f6244</td>\n",
       "      <td>350688d9dc1e75ff97be326363655e01</td>\n",
       "      <td>f7ccf836d21b2fb1de37564105216cc1</td>\n",
       "      <td>cama_mesa_banho</td>\n",
       "      <td>55.79</td>\n",
       "      <td>2018-06-09 17:00:18</td>\n",
       "      <td>bed_bath_table</td>\n",
       "      <td>NaN</td>\n",
       "    </tr>\n",
       "  </tbody>\n",
       "</table>\n",
       "<p>117604 rows × 8 columns</p>\n",
       "</div>"
      ],
      "text/plain": [
       "                                order_id                        product_id  \\\n",
       "0       00010242fe8c5a6d1ba2dd792cb16214  4244733e06e7ecb4970a6e2683c13e61   \n",
       "1       00018f77f2f0320c557190d7a144bdd3  e5f2d52b802189ee658865ca93d83a8f   \n",
       "2       000229ec398224ef6ca0657da4fc703e  c777355d18b72b67abbeef9df44fd0fd   \n",
       "3       00024acbcdf0a6daa1e931b038114c75  7634da152a4610f1595efa32f14722fc   \n",
       "4       00042b26cf59d7ce69dfabb4e55b4fd9  ac6c3623068f30de03045865e4e10089   \n",
       "...                                  ...                               ...   \n",
       "117599  fffc94f6ce00a00581880bf54a75a037  4aa6014eceb682077f9dc4bffebc05b0   \n",
       "117600  fffcd46ef2263f404302a634eb57f7eb  32e07fd915822b0765e448c4dd74c828   \n",
       "117601  fffce4705a9662cd70adb13d4a31832d  72a30483855e2eafc67aee5dc2560482   \n",
       "117602  fffe18544ffabc95dfada21779c9644f  9c422a519119dcad7575db5af1ba540e   \n",
       "117603  fffe41c64501cc87c801fd61db3f6244  350688d9dc1e75ff97be326363655e01   \n",
       "\n",
       "                               seller_id   product_category_name  \\\n",
       "0       48436dade18ac8b2bce089ec2a041202              cool_stuff   \n",
       "1       dd7ddc04e1b6c2c614352b383efe2d36                pet_shop   \n",
       "2       5b51032eddd242adc84c38acab88f23d        moveis_decoracao   \n",
       "3       9d7a1d34a5052409006425275ba1c2b4              perfumaria   \n",
       "4       df560393f3a51e74553ab94004ba5c87      ferramentas_jardim   \n",
       "...                                  ...                     ...   \n",
       "117599  b8bc237ba3788b23da09c0f1f3a3288c   utilidades_domesticas   \n",
       "117600  f3c38ab652836d21de61fb8314b69182  informatica_acessorios   \n",
       "117601  c3cfdc648177fdbbbb35635a37472c53           esporte_lazer   \n",
       "117602  2b3e4a2a3ea8e01938cabda2a3e5cc79  informatica_acessorios   \n",
       "117603  f7ccf836d21b2fb1de37564105216cc1         cama_mesa_banho   \n",
       "\n",
       "        payment_value order_purchase_timestamp product_category_name_english  \\\n",
       "0               72.19      2017-09-13 08:59:02                    cool_stuff   \n",
       "1              259.83      2017-04-26 10:53:06                      pet_shop   \n",
       "2              216.87      2018-01-14 14:33:31               furniture_decor   \n",
       "3               25.78      2018-08-08 10:00:35                     perfumery   \n",
       "4              218.04      2017-02-04 13:57:51                  garden_tools   \n",
       "...               ...                      ...                           ...   \n",
       "117599         343.40      2018-04-23 13:57:06                    housewares   \n",
       "117600         386.53      2018-07-14 10:26:46         computers_accessories   \n",
       "117601         116.85      2017-10-23 17:07:56                sports_leisure   \n",
       "117602          64.71      2017-08-14 23:02:59         computers_accessories   \n",
       "117603          55.79      2018-06-09 17:00:18                bed_bath_table   \n",
       "\n",
       "       order_purchase_timestamp_month  \n",
       "0                             2017-10  \n",
       "1                             2018-07  \n",
       "2                             2018-08  \n",
       "3                             2017-11  \n",
       "4                             2018-02  \n",
       "...                               ...  \n",
       "117599                            NaN  \n",
       "117600                            NaN  \n",
       "117601                            NaN  \n",
       "117602                            NaN  \n",
       "117603                            NaN  \n",
       "\n",
       "[117604 rows x 8 columns]"
      ]
     },
     "execution_count": 112,
     "metadata": {},
     "output_type": "execute_result"
    }
   ],
   "source": [
    "secondPaymentDataSet"
   ]
  },
  {
   "cell_type": "code",
   "execution_count": 113,
   "id": "44ed9a02-e2b2-412e-97ae-5745b141d9db",
   "metadata": {
    "canvas": {
     "comments": [],
     "componentType": "CodeCell",
     "copiedOriginId": null,
     "diskcache": false,
     "headerColor": "transparent",
     "id": "613fae16-8a3a-4433-b011-f517e1f2b898",
     "isComponent": false,
     "name": "",
     "parents": []
    },
    "tags": []
   },
   "outputs": [],
   "source": [
    "categorySales = secondPaymentDataSet.groupby(['product_category_name_english','order_purchase_timestamp_month']).sum('payment_value').reset_index()"
   ]
  },
  {
   "cell_type": "code",
   "execution_count": 114,
   "id": "680031aa-738b-45b1-9b93-4e2ca3bcfa74",
   "metadata": {
    "canvas": {
     "comments": [],
     "componentType": "CodeCell",
     "copiedOriginId": null,
     "diskcache": false,
     "headerColor": "transparent",
     "id": "11ce91de-2868-4ae0-bacd-c545d8b98a4c",
     "isComponent": false,
     "name": "",
     "parents": []
    }
   },
   "outputs": [],
   "source": [
    "categorySales.columns = ['카테고리명','년-월', '총구매금액']"
   ]
  },
  {
   "cell_type": "code",
   "execution_count": 115,
   "id": "00efde9c-0e9b-4813-8ccd-5b7dc284ac84",
   "metadata": {
    "canvas": {
     "comments": [],
     "componentType": "CodeCell",
     "copiedOriginId": null,
     "diskcache": false,
     "headerColor": "transparent",
     "id": "08fa2cc8-72da-45f9-ad81-f2646c3832b0",
     "isComponent": false,
     "name": "",
     "parents": []
    },
    "tags": []
   },
   "outputs": [
    {
     "data": {
      "text/plain": [
       "71"
      ]
     },
     "execution_count": 115,
     "metadata": {},
     "output_type": "execute_result"
    }
   ],
   "source": [
    "categorySales['카테고리명'].nunique()"
   ]
  },
  {
   "cell_type": "code",
   "execution_count": 116,
   "id": "df83788b-3e65-4033-acac-dbb2b2d31a8b",
   "metadata": {
    "canvas": {
     "comments": [],
     "componentType": "CodeCell",
     "copiedOriginId": null,
     "diskcache": false,
     "headerColor": "transparent",
     "id": "082f71b7-0a90-4128-964a-cb09f7135cb0",
     "isComponent": false,
     "name": "",
     "parents": []
    },
    "tags": []
   },
   "outputs": [],
   "source": [
    "# 천 단위 포맷 설정 함수\n",
    "def thousands_formatter(x, pos):\n",
    "    return '{:,.0f}'.format(x)"
   ]
  },
  {
   "cell_type": "code",
   "execution_count": 117,
   "id": "8f957369-6381-492b-86cd-16cc2470b1ac",
   "metadata": {
    "canvas": {
     "comments": [],
     "componentType": "CodeCell",
     "copiedOriginId": null,
     "diskcache": false,
     "headerColor": "transparent",
     "id": "6da566ea-8c2a-49d3-a3f5-a765647fb78f",
     "isComponent": false,
     "name": "",
     "parents": []
    },
    "tags": []
   },
   "outputs": [],
   "source": [
    "categorySales_sum = categorySales.groupby('카테고리명').sum('총구매금액').reset_index()"
   ]
  },
  {
   "cell_type": "code",
   "execution_count": 118,
   "id": "801691ad-bef0-4651-bd6d-911cc0c9f09b",
   "metadata": {
    "canvas": {
     "comments": [],
     "componentType": "CodeCell",
     "copiedOriginId": null,
     "diskcache": false,
     "headerColor": "transparent",
     "id": "395eebe4-ddd9-470d-9ea0-a51798e48a0f",
     "isComponent": false,
     "name": "",
     "parents": []
    },
    "tags": []
   },
   "outputs": [],
   "source": [
    "categorySales_pivot = categorySales.pivot_table(index='년-월', columns = '카테고리명', values='총구매금액')"
   ]
  },
  {
   "cell_type": "code",
   "execution_count": 119,
   "id": "7de1a8dc-8ae7-4c7a-b531-c25db63487c9",
   "metadata": {
    "canvas": {
     "comments": [],
     "componentType": "CodeCell",
     "copiedOriginId": null,
     "diskcache": false,
     "headerColor": "transparent",
     "id": "09afa273-bc06-4775-87f5-b8e208ece5fe",
     "isComponent": false,
     "name": "",
     "parents": []
    }
   },
   "outputs": [
    {
     "data": {
      "text/html": [
       "<div>\n",
       "<style scoped>\n",
       "    .dataframe tbody tr th:only-of-type {\n",
       "        vertical-align: middle;\n",
       "    }\n",
       "\n",
       "    .dataframe tbody tr th {\n",
       "        vertical-align: top;\n",
       "    }\n",
       "\n",
       "    .dataframe thead th {\n",
       "        text-align: right;\n",
       "    }\n",
       "</style>\n",
       "<table border=\"1\" class=\"dataframe\">\n",
       "  <thead>\n",
       "    <tr style=\"text-align: right;\">\n",
       "      <th></th>\n",
       "      <th>카테고리명</th>\n",
       "      <th>총구매금액</th>\n",
       "    </tr>\n",
       "  </thead>\n",
       "  <tbody>\n",
       "    <tr>\n",
       "      <th>0</th>\n",
       "      <td>agro_industry_and_commerce</td>\n",
       "      <td>101899.13</td>\n",
       "    </tr>\n",
       "    <tr>\n",
       "      <th>1</th>\n",
       "      <td>air_conditioning</td>\n",
       "      <td>70674.98</td>\n",
       "    </tr>\n",
       "    <tr>\n",
       "      <th>2</th>\n",
       "      <td>art</td>\n",
       "      <td>20444.53</td>\n",
       "    </tr>\n",
       "    <tr>\n",
       "      <th>3</th>\n",
       "      <td>arts_and_craftmanship</td>\n",
       "      <td>2011.85</td>\n",
       "    </tr>\n",
       "    <tr>\n",
       "      <th>4</th>\n",
       "      <td>audio</td>\n",
       "      <td>50463.60</td>\n",
       "    </tr>\n",
       "  </tbody>\n",
       "</table>\n",
       "</div>"
      ],
      "text/plain": [
       "                        카테고리명      총구매금액\n",
       "0  agro_industry_and_commerce  101899.13\n",
       "1            air_conditioning   70674.98\n",
       "2                         art   20444.53\n",
       "3       arts_and_craftmanship    2011.85\n",
       "4                       audio   50463.60"
      ]
     },
     "execution_count": 119,
     "metadata": {},
     "output_type": "execute_result"
    }
   ],
   "source": [
    "categorySales_sum.head()"
   ]
  },
  {
   "cell_type": "code",
   "execution_count": 134,
   "id": "5767e4b1-10ff-4a09-a1f2-bc1c1664cb6c",
   "metadata": {
    "canvas": {
     "comments": [],
     "componentType": "CodeCell",
     "copiedOriginId": null,
     "diskcache": false,
     "headerColor": "transparent",
     "id": "ccacd6cc-5ae5-48d0-b0e6-816c00b80814",
     "isComponent": false,
     "name": "",
     "parents": []
    },
    "tags": []
   },
   "outputs": [],
   "source": [
    "# 매출 상위 10개 카테고리 추출\n",
    "top_10_categories = categorySales_sum.nlargest(10, '총구매금액')['카테고리명']"
   ]
  },
  {
   "cell_type": "code",
   "execution_count": null,
   "id": "534cd700-213d-4834-8228-ff9ab918a8c9",
   "metadata": {
    "canvas": {
     "comments": [],
     "componentType": "CodeCell",
     "copiedOriginId": null,
     "diskcache": false,
     "headerColor": "transparent",
     "id": "d2a71193-4582-4581-8e2b-3402ac144161",
     "isComponent": false,
     "name": "",
     "parents": []
    }
   },
   "outputs": [],
   "source": []
  },
  {
   "cell_type": "code",
   "execution_count": 121,
   "id": "eef5e4df-86f0-409c-9062-1f1c131a7450",
   "metadata": {
    "canvas": {
     "comments": [],
     "componentType": "CodeCell",
     "copiedOriginId": null,
     "diskcache": false,
     "headerColor": "transparent",
     "id": "4a0388ab-86f7-4130-8668-a899064dc975",
     "isComponent": false,
     "name": "",
     "parents": []
    },
    "tags": []
   },
   "outputs": [],
   "source": [
    "# 원본 데이터에서 상위 10개 카테고리만 필터링\n",
    "filtered_df = categorySales[categorySales['카테고리명'].isin(top_10_categories)]"
   ]
  },
  {
   "cell_type": "code",
   "execution_count": 122,
   "id": "37c2df9c-6826-47ca-bfb4-64c3c340bb2c",
   "metadata": {
    "canvas": {
     "comments": [],
     "componentType": "CodeCell",
     "copiedOriginId": null,
     "diskcache": false,
     "headerColor": "transparent",
     "id": "8686b432-9174-494a-b244-a88c0d8bd3f7",
     "isComponent": false,
     "name": "",
     "parents": []
    },
    "tags": []
   },
   "outputs": [
    {
     "data": {
      "text/plain": [
       "array(['auto', 'bed_bath_table', 'computers_accessories', 'cool_stuff',\n",
       "       'furniture_decor', 'garden_tools', 'health_beauty', 'housewares',\n",
       "       'sports_leisure', 'watches_gifts'], dtype=object)"
      ]
     },
     "execution_count": 122,
     "metadata": {},
     "output_type": "execute_result"
    }
   ],
   "source": [
    "filtered_df['카테고리명'].unique()"
   ]
  },
  {
   "cell_type": "code",
   "execution_count": 123,
   "id": "e32727a5-3e33-49cb-abf5-ec9294f67fc3",
   "metadata": {
    "canvas": {
     "comments": [],
     "componentType": "CodeCell",
     "copiedOriginId": null,
     "diskcache": false,
     "headerColor": "transparent",
     "id": "e62b2f52-4c4e-4a5b-911c-16a63ffa32ba",
     "isComponent": false,
     "name": "",
     "parents": []
    },
    "tags": []
   },
   "outputs": [
    {
     "data": {
      "text/html": [
       "<div>\n",
       "<style scoped>\n",
       "    .dataframe tbody tr th:only-of-type {\n",
       "        vertical-align: middle;\n",
       "    }\n",
       "\n",
       "    .dataframe tbody tr th {\n",
       "        vertical-align: top;\n",
       "    }\n",
       "\n",
       "    .dataframe thead th {\n",
       "        text-align: right;\n",
       "    }\n",
       "</style>\n",
       "<table border=\"1\" class=\"dataframe\">\n",
       "  <thead>\n",
       "    <tr style=\"text-align: right;\">\n",
       "      <th></th>\n",
       "      <th>카테고리명</th>\n",
       "      <th>년-월</th>\n",
       "      <th>총구매금액</th>\n",
       "    </tr>\n",
       "  </thead>\n",
       "  <tbody>\n",
       "    <tr>\n",
       "      <th>96</th>\n",
       "      <td>auto</td>\n",
       "      <td>2016-09</td>\n",
       "      <td>31.79</td>\n",
       "    </tr>\n",
       "    <tr>\n",
       "      <th>97</th>\n",
       "      <td>auto</td>\n",
       "      <td>2016-10</td>\n",
       "      <td>1736.98</td>\n",
       "    </tr>\n",
       "    <tr>\n",
       "      <th>98</th>\n",
       "      <td>auto</td>\n",
       "      <td>2017-01</td>\n",
       "      <td>4326.98</td>\n",
       "    </tr>\n",
       "    <tr>\n",
       "      <th>99</th>\n",
       "      <td>auto</td>\n",
       "      <td>2017-02</td>\n",
       "      <td>9928.97</td>\n",
       "    </tr>\n",
       "    <tr>\n",
       "      <th>100</th>\n",
       "      <td>auto</td>\n",
       "      <td>2017-03</td>\n",
       "      <td>15112.69</td>\n",
       "    </tr>\n",
       "  </tbody>\n",
       "</table>\n",
       "</div>"
      ],
      "text/plain": [
       "    카테고리명      년-월     총구매금액\n",
       "96   auto  2016-09     31.79\n",
       "97   auto  2016-10   1736.98\n",
       "98   auto  2017-01   4326.98\n",
       "99   auto  2017-02   9928.97\n",
       "100  auto  2017-03  15112.69"
      ]
     },
     "execution_count": 123,
     "metadata": {},
     "output_type": "execute_result"
    }
   ],
   "source": [
    "filtered_df.head()"
   ]
  },
  {
   "cell_type": "code",
   "execution_count": 124,
   "id": "0a2b5fd4-3ba8-4055-a2ca-119bf28b4438",
   "metadata": {
    "canvas": {
     "comments": [],
     "componentType": "CodeCell",
     "copiedOriginId": null,
     "diskcache": false,
     "headerColor": "transparent",
     "id": "2d54a760-83f8-4a5a-9643-fd9e1be939d3",
     "isComponent": false,
     "name": "",
     "parents": []
    },
    "tags": []
   },
   "outputs": [],
   "source": [
    "categorySales_pivot = filtered_df.pivot_table(index='년-월', columns = '카테고리명', values='총구매금액')\n"
   ]
  },
  {
   "cell_type": "code",
   "execution_count": 125,
   "id": "b6e47fee-3270-4962-94d9-98fa16a55ecc",
   "metadata": {
    "canvas": {
     "comments": [],
     "componentType": "CodeCell",
     "copiedOriginId": null,
     "diskcache": false,
     "headerColor": "transparent",
     "id": "e19a6ecb-192f-4645-b020-12d0ced240e5",
     "isComponent": false,
     "name": "",
     "parents": []
    }
   },
   "outputs": [
    {
     "data": {
      "text/html": [
       "<div>\n",
       "<style scoped>\n",
       "    .dataframe tbody tr th:only-of-type {\n",
       "        vertical-align: middle;\n",
       "    }\n",
       "\n",
       "    .dataframe tbody tr th {\n",
       "        vertical-align: top;\n",
       "    }\n",
       "\n",
       "    .dataframe thead th {\n",
       "        text-align: right;\n",
       "    }\n",
       "</style>\n",
       "<table border=\"1\" class=\"dataframe\">\n",
       "  <thead>\n",
       "    <tr style=\"text-align: right;\">\n",
       "      <th>카테고리명</th>\n",
       "      <th>auto</th>\n",
       "      <th>bed_bath_table</th>\n",
       "      <th>computers_accessories</th>\n",
       "      <th>cool_stuff</th>\n",
       "      <th>furniture_decor</th>\n",
       "      <th>garden_tools</th>\n",
       "      <th>health_beauty</th>\n",
       "      <th>housewares</th>\n",
       "      <th>sports_leisure</th>\n",
       "      <th>watches_gifts</th>\n",
       "    </tr>\n",
       "    <tr>\n",
       "      <th>년-월</th>\n",
       "      <th></th>\n",
       "      <th></th>\n",
       "      <th></th>\n",
       "      <th></th>\n",
       "      <th></th>\n",
       "      <th></th>\n",
       "      <th></th>\n",
       "      <th></th>\n",
       "      <th></th>\n",
       "      <th></th>\n",
       "    </tr>\n",
       "  </thead>\n",
       "  <tbody>\n",
       "    <tr>\n",
       "      <th>2016-09</th>\n",
       "      <td>31.79</td>\n",
       "      <td>NaN</td>\n",
       "      <td>NaN</td>\n",
       "      <td>NaN</td>\n",
       "      <td>NaN</td>\n",
       "      <td>NaN</td>\n",
       "      <td>NaN</td>\n",
       "      <td>NaN</td>\n",
       "      <td>NaN</td>\n",
       "      <td>NaN</td>\n",
       "    </tr>\n",
       "    <tr>\n",
       "      <th>2016-10</th>\n",
       "      <td>1736.98</td>\n",
       "      <td>3652.38</td>\n",
       "      <td>3588.43</td>\n",
       "      <td>3152.08</td>\n",
       "      <td>3353.33</td>\n",
       "      <td>898.21</td>\n",
       "      <td>7842.25</td>\n",
       "      <td>6640.62</td>\n",
       "      <td>3995.27</td>\n",
       "      <td>4259.50</td>\n",
       "    </tr>\n",
       "    <tr>\n",
       "      <th>2016-12</th>\n",
       "      <td>NaN</td>\n",
       "      <td>NaN</td>\n",
       "      <td>NaN</td>\n",
       "      <td>NaN</td>\n",
       "      <td>55.10</td>\n",
       "      <td>NaN</td>\n",
       "      <td>NaN</td>\n",
       "      <td>NaN</td>\n",
       "      <td>NaN</td>\n",
       "      <td>NaN</td>\n",
       "    </tr>\n",
       "    <tr>\n",
       "      <th>2017-01</th>\n",
       "      <td>4326.98</td>\n",
       "      <td>9091.14</td>\n",
       "      <td>11517.35</td>\n",
       "      <td>4678.52</td>\n",
       "      <td>8594.73</td>\n",
       "      <td>6677.33</td>\n",
       "      <td>10587.20</td>\n",
       "      <td>6261.70</td>\n",
       "      <td>11309.13</td>\n",
       "      <td>11454.00</td>\n",
       "    </tr>\n",
       "    <tr>\n",
       "      <th>2017-02</th>\n",
       "      <td>9928.97</td>\n",
       "      <td>29807.02</td>\n",
       "      <td>32349.83</td>\n",
       "      <td>12782.79</td>\n",
       "      <td>19954.43</td>\n",
       "      <td>13044.15</td>\n",
       "      <td>30504.62</td>\n",
       "      <td>15831.53</td>\n",
       "      <td>19308.34</td>\n",
       "      <td>17534.42</td>\n",
       "    </tr>\n",
       "  </tbody>\n",
       "</table>\n",
       "</div>"
      ],
      "text/plain": [
       "카테고리명       auto  bed_bath_table  computers_accessories  cool_stuff  \\\n",
       "년-월                                                                   \n",
       "2016-09    31.79             NaN                    NaN         NaN   \n",
       "2016-10  1736.98         3652.38                3588.43     3152.08   \n",
       "2016-12      NaN             NaN                    NaN         NaN   \n",
       "2017-01  4326.98         9091.14               11517.35     4678.52   \n",
       "2017-02  9928.97        29807.02               32349.83    12782.79   \n",
       "\n",
       "카테고리명    furniture_decor  garden_tools  health_beauty  housewares  \\\n",
       "년-월                                                                 \n",
       "2016-09              NaN           NaN            NaN         NaN   \n",
       "2016-10          3353.33        898.21        7842.25     6640.62   \n",
       "2016-12            55.10           NaN            NaN         NaN   \n",
       "2017-01          8594.73       6677.33       10587.20     6261.70   \n",
       "2017-02         19954.43      13044.15       30504.62    15831.53   \n",
       "\n",
       "카테고리명    sports_leisure  watches_gifts  \n",
       "년-월                                     \n",
       "2016-09             NaN            NaN  \n",
       "2016-10         3995.27        4259.50  \n",
       "2016-12             NaN            NaN  \n",
       "2017-01        11309.13       11454.00  \n",
       "2017-02        19308.34       17534.42  "
      ]
     },
     "execution_count": 125,
     "metadata": {},
     "output_type": "execute_result"
    }
   ],
   "source": [
    "categorySales_pivot.head()"
   ]
  },
  {
   "cell_type": "code",
   "execution_count": 126,
   "id": "9d40c073-00a1-42e7-8092-70a258a2a1ba",
   "metadata": {
    "canvas": {
     "comments": [],
     "componentType": "CodeCell",
     "copiedOriginId": null,
     "diskcache": false,
     "headerColor": "transparent",
     "id": "252f22a5-812d-4d83-b380-7246bd3eb0aa",
     "isComponent": false,
     "name": "",
     "parents": []
    }
   },
   "outputs": [
    {
     "data": {
      "text/html": [
       "<div>\n",
       "<style scoped>\n",
       "    .dataframe tbody tr th:only-of-type {\n",
       "        vertical-align: middle;\n",
       "    }\n",
       "\n",
       "    .dataframe tbody tr th {\n",
       "        vertical-align: top;\n",
       "    }\n",
       "\n",
       "    .dataframe thead th {\n",
       "        text-align: right;\n",
       "    }\n",
       "</style>\n",
       "<table border=\"1\" class=\"dataframe\">\n",
       "  <thead>\n",
       "    <tr style=\"text-align: right;\">\n",
       "      <th>카테고리명</th>\n",
       "      <th>auto</th>\n",
       "      <th>bed_bath_table</th>\n",
       "      <th>computers_accessories</th>\n",
       "      <th>cool_stuff</th>\n",
       "      <th>furniture_decor</th>\n",
       "      <th>garden_tools</th>\n",
       "      <th>health_beauty</th>\n",
       "      <th>housewares</th>\n",
       "      <th>sports_leisure</th>\n",
       "      <th>watches_gifts</th>\n",
       "    </tr>\n",
       "    <tr>\n",
       "      <th>년-월</th>\n",
       "      <th></th>\n",
       "      <th></th>\n",
       "      <th></th>\n",
       "      <th></th>\n",
       "      <th></th>\n",
       "      <th></th>\n",
       "      <th></th>\n",
       "      <th></th>\n",
       "      <th></th>\n",
       "      <th></th>\n",
       "    </tr>\n",
       "  </thead>\n",
       "  <tbody>\n",
       "    <tr>\n",
       "      <th>2016-09</th>\n",
       "      <td>31.79</td>\n",
       "      <td>NaN</td>\n",
       "      <td>NaN</td>\n",
       "      <td>NaN</td>\n",
       "      <td>NaN</td>\n",
       "      <td>NaN</td>\n",
       "      <td>NaN</td>\n",
       "      <td>NaN</td>\n",
       "      <td>NaN</td>\n",
       "      <td>NaN</td>\n",
       "    </tr>\n",
       "    <tr>\n",
       "      <th>2016-10</th>\n",
       "      <td>1736.98</td>\n",
       "      <td>3652.38</td>\n",
       "      <td>3588.43</td>\n",
       "      <td>3152.08</td>\n",
       "      <td>3353.33</td>\n",
       "      <td>898.21</td>\n",
       "      <td>7842.25</td>\n",
       "      <td>6640.62</td>\n",
       "      <td>3995.27</td>\n",
       "      <td>4259.50</td>\n",
       "    </tr>\n",
       "    <tr>\n",
       "      <th>2016-12</th>\n",
       "      <td>NaN</td>\n",
       "      <td>NaN</td>\n",
       "      <td>NaN</td>\n",
       "      <td>NaN</td>\n",
       "      <td>55.10</td>\n",
       "      <td>NaN</td>\n",
       "      <td>NaN</td>\n",
       "      <td>NaN</td>\n",
       "      <td>NaN</td>\n",
       "      <td>NaN</td>\n",
       "    </tr>\n",
       "    <tr>\n",
       "      <th>2017-01</th>\n",
       "      <td>4326.98</td>\n",
       "      <td>9091.14</td>\n",
       "      <td>11517.35</td>\n",
       "      <td>4678.52</td>\n",
       "      <td>8594.73</td>\n",
       "      <td>6677.33</td>\n",
       "      <td>10587.20</td>\n",
       "      <td>6261.70</td>\n",
       "      <td>11309.13</td>\n",
       "      <td>11454.00</td>\n",
       "    </tr>\n",
       "    <tr>\n",
       "      <th>2017-02</th>\n",
       "      <td>9928.97</td>\n",
       "      <td>29807.02</td>\n",
       "      <td>32349.83</td>\n",
       "      <td>12782.79</td>\n",
       "      <td>19954.43</td>\n",
       "      <td>13044.15</td>\n",
       "      <td>30504.62</td>\n",
       "      <td>15831.53</td>\n",
       "      <td>19308.34</td>\n",
       "      <td>17534.42</td>\n",
       "    </tr>\n",
       "  </tbody>\n",
       "</table>\n",
       "</div>"
      ],
      "text/plain": [
       "카테고리명       auto  bed_bath_table  computers_accessories  cool_stuff  \\\n",
       "년-월                                                                   \n",
       "2016-09    31.79             NaN                    NaN         NaN   \n",
       "2016-10  1736.98         3652.38                3588.43     3152.08   \n",
       "2016-12      NaN             NaN                    NaN         NaN   \n",
       "2017-01  4326.98         9091.14               11517.35     4678.52   \n",
       "2017-02  9928.97        29807.02               32349.83    12782.79   \n",
       "\n",
       "카테고리명    furniture_decor  garden_tools  health_beauty  housewares  \\\n",
       "년-월                                                                 \n",
       "2016-09              NaN           NaN            NaN         NaN   \n",
       "2016-10          3353.33        898.21        7842.25     6640.62   \n",
       "2016-12            55.10           NaN            NaN         NaN   \n",
       "2017-01          8594.73       6677.33       10587.20     6261.70   \n",
       "2017-02         19954.43      13044.15       30504.62    15831.53   \n",
       "\n",
       "카테고리명    sports_leisure  watches_gifts  \n",
       "년-월                                     \n",
       "2016-09             NaN            NaN  \n",
       "2016-10         3995.27        4259.50  \n",
       "2016-12             NaN            NaN  \n",
       "2017-01        11309.13       11454.00  \n",
       "2017-02        19308.34       17534.42  "
      ]
     },
     "execution_count": 126,
     "metadata": {},
     "output_type": "execute_result"
    }
   ],
   "source": [
    "categorySales_pivot.head()"
   ]
  },
  {
   "cell_type": "code",
   "execution_count": 127,
   "id": "c3aaf70d-b9e3-489a-b14a-cb36de7b3663",
   "metadata": {
    "canvas": {
     "comments": [],
     "componentType": "CodeCell",
     "copiedOriginId": null,
     "diskcache": false,
     "headerColor": "transparent",
     "id": "9a9509a4-86c8-44de-a8df-19a26d117f1b",
     "isComponent": false,
     "name": "",
     "parents": []
    },
    "tags": []
   },
   "outputs": [
    {
     "data": {
      "image/png": "[encoded data removed]",
      "text/plain": [
       "<Figure size 1000x600 with 1 Axes>"
      ]
     },
     "metadata": {},
     "output_type": "display_data"
    }
   ],
   "source": [
    "# 꺾은선 그래프 그리기\n",
    "plt.figure(figsize=(10, 6))\n",
    "\n",
    "\n",
    "# 각 카테고리별로 꺾은선 추가\n",
    "for category in categorySales_pivot.columns:\n",
    "    plt.plot(categorySales_pivot.index, categorySales_pivot[category], marker='o', label= category)\n",
    "\n",
    "        \n",
    "# 범례 추가\n",
    "plt.legend(title='Category')\n",
    "    \n",
    "    \n",
    "# x축의 날짜 포맷을 조정\n",
    "plt.xticks(rotation=45)\n",
    "\n",
    "plt.tight_layout()"
   ]
  },
  {
   "cell_type": "markdown",
   "id": "160d79aa-c4f7-44f7-ab9a-b66d3b733e70",
   "metadata": {
    "canvas": {
     "comments": [],
     "componentType": "CodeCell",
     "copiedOriginId": null,
     "diskcache": false,
     "headerColor": "transparent",
     "id": "790c14ff-f77b-49f0-bfb2-406790a9a8b3",
     "isComponent": false,
     "name": "",
     "parents": []
    }
   },
   "source": [
    "### 카테고리별 입점자 추이 "
   ]
  },
  {
   "cell_type": "code",
   "execution_count": 128,
   "id": "c5ca1304-3ccf-41d1-af4d-4a1b753dca0f",
   "metadata": {
    "canvas": {
     "comments": [],
     "componentType": "CodeCell",
     "copiedOriginId": null,
     "diskcache": false,
     "headerColor": "transparent",
     "id": "de02642e-0d8c-416f-9f1b-a5f0674177fb",
     "isComponent": false,
     "name": "",
     "parents": []
    },
    "tags": []
   },
   "outputs": [],
   "source": [
    "contactedSellers = closedDeals[closedDeals['won_date'].notna()]\n",
    "cateMerge = pd.merge(contactedSellers,secondPaymentDataSet, how = 'left', on ='seller_id')\n",
    "cateMerge.head()\n",
    "productCategoryTable = secondPaymentDataSet.groupby(['seller_id', 'product_category_name_english'],as_index=False).agg({'order_purchase_timestamp' : ['min', 'max']}).reset_index(drop=True)\n"
   ]
  },
  {
   "cell_type": "code",
   "execution_count": 129,
   "id": "3bf7d349-0710-4e73-a722-cc53238e35f9",
   "metadata": {
    "canvas": {
     "comments": [],
     "componentType": "CodeCell",
     "copiedOriginId": null,
     "diskcache": false,
     "headerColor": "transparent",
     "id": "c954d3ac-80ad-452d-aa77-8fcf51108354",
     "isComponent": false,
     "name": "",
     "parents": []
    },
    "tags": []
   },
   "outputs": [],
   "source": [
    "\n",
    "# 컬럼 이름을 단일 계층으로 변경\n",
    "productCategoryTable.columns = ['_'.join(col).strip() if col[1] else col[0] for col in productCategoryTable.columns.values]\n",
    "\n",
    "mergedResult = pd.merge(contactedSellers, productCategoryTable, how='left', on='seller_id')[['mql_id','seller_id', 'won_date', 'product_category_name_english', 'order_purchase_timestamp_min', 'order_purchase_timestamp_max']]"
   ]
  },
  {
   "cell_type": "code",
   "execution_count": 154,
   "id": "717a6836-dea9-4238-948e-eebe520a68c2",
   "metadata": {
    "canvas": {
     "comments": [],
     "componentType": "CodeCell",
     "copiedOriginId": null,
     "diskcache": false,
     "headerColor": "transparent",
     "id": "b83f485a-5c04-4541-8c08-f46a95b72cfb",
     "isComponent": false,
     "name": "",
     "parents": []
    },
    "tags": []
   },
   "outputs": [
    {
     "name": "stderr",
     "output_type": "stream",
     "text": [
      "C:\\Users\\mandy\\AppData\\Local\\Temp\\ipykernel_23600\\631003134.py:1: SettingWithCopyWarning: \n",
      "A value is trying to be set on a copy of a slice from a DataFrame.\n",
      "Try using .loc[row_indexer,col_indexer] = value instead\n",
      "\n",
      "See the caveats in the documentation: https://pandas.pydata.org/pandas-docs/stable/user_guide/indexing.html#returning-a-view-versus-a-copy\n",
      "  yesResult['won_date'] = pd.to_datetime(yesResult['won_date']).dt.strftime('%Y-%m')\n"
     ]
    }
   ],
   "source": [
    "\n",
    "yesResult['won_date'] = pd.to_datetime(yesResult['won_date']).dt.strftime('%Y-%m') \n",
    "yesCount = yesResult.groupby(['product_category_name_english','won_date']).size().reset_index(name='Count') "
   ]
  },
  {
   "cell_type": "code",
   "execution_count": 169,
   "id": "efc6d729-f603-44d7-b4c8-e812cd881770",
   "metadata": {
    "canvas": {
     "comments": [],
     "componentType": "CodeCell",
     "copiedOriginId": null,
     "diskcache": false,
     "headerColor": "transparent",
     "id": "9f07ada6-6632-4c00-9f0c-8704f514f9f6",
     "isComponent": false,
     "name": "",
     "parents": []
    },
    "tags": []
   },
   "outputs": [],
   "source": [
    "countResult = yesResult.groupby(['product_category_name_english']).size().reset_index(name='Count')"
   ]
  },
  {
   "cell_type": "code",
   "execution_count": 170,
   "id": "991547f3-d366-46d1-9d3e-7fbb18da393a",
   "metadata": {
    "canvas": {
     "comments": [],
     "componentType": "CodeCell",
     "copiedOriginId": null,
     "diskcache": false,
     "headerColor": "transparent",
     "id": "abcf68b9-7579-405f-a04b-50667ae95bce",
     "isComponent": false,
     "name": "",
     "parents": []
    },
    "tags": []
   },
   "outputs": [
    {
     "data": {
      "text/html": [
       "<div>\n",
       "<style scoped>\n",
       "    .dataframe tbody tr th:only-of-type {\n",
       "        vertical-align: middle;\n",
       "    }\n",
       "\n",
       "    .dataframe tbody tr th {\n",
       "        vertical-align: top;\n",
       "    }\n",
       "\n",
       "    .dataframe thead th {\n",
       "        text-align: right;\n",
       "    }\n",
       "</style>\n",
       "<table border=\"1\" class=\"dataframe\">\n",
       "  <thead>\n",
       "    <tr style=\"text-align: right;\">\n",
       "      <th></th>\n",
       "      <th>product_category_name_english</th>\n",
       "      <th>Count</th>\n",
       "    </tr>\n",
       "  </thead>\n",
       "  <tbody>\n",
       "    <tr>\n",
       "      <th>0</th>\n",
       "      <td>agro_industry_and_commerce</td>\n",
       "      <td>4</td>\n",
       "    </tr>\n",
       "    <tr>\n",
       "      <th>1</th>\n",
       "      <td>air_conditioning</td>\n",
       "      <td>4</td>\n",
       "    </tr>\n",
       "    <tr>\n",
       "      <th>2</th>\n",
       "      <td>art</td>\n",
       "      <td>6</td>\n",
       "    </tr>\n",
       "    <tr>\n",
       "      <th>3</th>\n",
       "      <td>arts_and_craftmanship</td>\n",
       "      <td>3</td>\n",
       "    </tr>\n",
       "    <tr>\n",
       "      <th>4</th>\n",
       "      <td>audio</td>\n",
       "      <td>1</td>\n",
       "    </tr>\n",
       "  </tbody>\n",
       "</table>\n",
       "</div>"
      ],
      "text/plain": [
       "  product_category_name_english  Count\n",
       "0    agro_industry_and_commerce      4\n",
       "1              air_conditioning      4\n",
       "2                           art      6\n",
       "3         arts_and_craftmanship      3\n",
       "4                         audio      1"
      ]
     },
     "execution_count": 170,
     "metadata": {},
     "output_type": "execute_result"
    }
   ],
   "source": [
    "countResult.head()"
   ]
  },
  {
   "cell_type": "code",
   "execution_count": 171,
   "id": "0b95cfec-0070-4a7c-b172-211935795fbc",
   "metadata": {
    "canvas": {
     "comments": [],
     "componentType": "CodeCell",
     "copiedOriginId": null,
     "diskcache": false,
     "headerColor": "transparent",
     "id": "0442fc1a-7e15-466b-8167-b2b5d324c53c",
     "isComponent": false,
     "name": "",
     "parents": []
    },
    "tags": []
   },
   "outputs": [],
   "source": [
    "# 매출 상위 10개 카테고리 추출\n",
    "top_10_categories = countResult.nlargest(10, 'Count')['product_category_name_english']"
   ]
  },
  {
   "cell_type": "code",
   "execution_count": 172,
   "id": "b326f967-5b7c-4296-a9dc-128a6b867d19",
   "metadata": {
    "canvas": {
     "comments": [],
     "componentType": "CodeCell",
     "copiedOriginId": null,
     "diskcache": false,
     "headerColor": "transparent",
     "id": "b9cb0107-674f-46f3-8ccc-0dc5da760af6",
     "isComponent": false,
     "name": "",
     "parents": []
    },
    "tags": []
   },
   "outputs": [
    {
     "data": {
      "text/plain": [
       "33            health_beauty\n",
       "37               housewares\n",
       "51           sports_leisure\n",
       "5                      auto\n",
       "6                      baby\n",
       "54                     toys\n",
       "30          furniture_decor\n",
       "14    computers_accessories\n",
       "52               stationery\n",
       "32             garden_tools\n",
       "Name: product_category_name_english, dtype: object"
      ]
     },
     "execution_count": 172,
     "metadata": {},
     "output_type": "execute_result"
    }
   ],
   "source": [
    "top_10_categories "
   ]
  },
  {
   "cell_type": "code",
   "execution_count": 173,
   "id": "b85535f9-b708-4202-ad2d-182918085089",
   "metadata": {
    "canvas": {
     "comments": [],
     "componentType": "CodeCell",
     "copiedOriginId": null,
     "diskcache": false,
     "headerColor": "transparent",
     "id": "2810060c-742a-449c-a1d7-1c4c84a756e3",
     "isComponent": false,
     "name": "",
     "parents": []
    },
    "tags": []
   },
   "outputs": [
    {
     "data": {
      "text/plain": [
       "<Axes: ylabel='product_category_name_english'>"
      ]
     },
     "execution_count": 173,
     "metadata": {},
     "output_type": "execute_result"
    },
    {
     "data": {
      "image/png": "[encoded data removed]",
      "text/plain": [
       "<Figure size 640x480 with 1 Axes>"
      ]
     },
     "metadata": {},
     "output_type": "display_data"
    }
   ],
   "source": [
    "countResult[countResult['product_category_name_english'].isin(top_10_categories)].plot(kind='barh',x='product_category_name_english', y='Count', color='skyblue',legend=False)"
   ]
  },
  {
   "cell_type": "code",
   "execution_count": 175,
   "id": "616f9fb3-fa7a-4fe1-82da-3121ff6ec03b",
   "metadata": {
    "canvas": {
     "comments": [],
     "componentType": "CodeCell",
     "copiedOriginId": null,
     "diskcache": false,
     "headerColor": "transparent",
     "id": "9656a2b0-3d05-45d9-afc1-9948fb9b26b5",
     "isComponent": false,
     "name": "",
     "parents": []
    },
    "tags": []
   },
   "outputs": [],
   "source": [
    "countResult = yesResult.groupby(['product_category_name_english','won_date']).size().reset_index(name='Count')"
   ]
  },
  {
   "cell_type": "code",
   "execution_count": 177,
   "id": "465a8cdf-17fd-4471-9946-3aae3e6a9605",
   "metadata": {
    "canvas": {
     "comments": [],
     "componentType": "CodeCell",
     "copiedOriginId": null,
     "diskcache": false,
     "headerColor": "transparent",
     "id": "af09ee71-e60b-4913-b426-7db735fb4854",
     "isComponent": false,
     "name": "",
     "parents": []
    },
    "tags": []
   },
   "outputs": [
    {
     "data": {
      "image/png": "[encoded data removed]",
      "text/plain": [
       "<Figure size 1000x600 with 1 Axes>"
      ]
     },
     "metadata": {},
     "output_type": "display_data"
    }
   ],
   "source": [
    "categorySales_pivot = countResult[countResult['product_category_name_english'].isin(top_10_categories)].pivot_table(index='won_date', columns = 'product_category_name_english', values='Count')\n",
    "\n",
    "# 꺾은선 그래프 그리기\n",
    "plt.figure(figsize=(10, 6))\n",
    "\n",
    "\n",
    "\n",
    "# 각 카테고리별로 꺾은선 추가\n",
    "for category in categorySales_pivot.columns:\n",
    "    plt.plot(categorySales_pivot.index, categorySales_pivot[category], marker='o', label= category)\n",
    "\n",
    "        \n",
    "# 범례 추가\n",
    "plt.legend(title='Category')\n",
    "    \n",
    "    \n",
    "# x축의 날짜 포맷을 조정\n",
    "plt.xticks(rotation=45)\n",
    "\n",
    "plt.tight_layout()"
   ]
  },
  {
   "cell_type": "markdown",
   "id": "dd3c9b5f-0428-4f9d-929e-583b3a905663",
   "metadata": {
    "canvas": {
     "comments": [],
     "componentType": "CodeCell",
     "copiedOriginId": null,
     "diskcache": false,
     "headerColor": "transparent",
     "id": "e52c5077-b3f5-4b16-a094-f894a976dba8",
     "isComponent": false,
     "name": "",
     "parents": []
    }
   },
   "source": [
    "## 입점기간 확인"
   ]
  },
  {
   "cell_type": "code",
   "execution_count": 131,
   "id": "ddb41c2b-ba5f-4939-8811-889160c61d8c",
   "metadata": {
    "canvas": {
     "comments": [],
     "componentType": "CodeCell",
     "copiedOriginId": null,
     "diskcache": false,
     "headerColor": "transparent",
     "id": "52202568-ec3c-42a4-a4c5-a551f1a8668b",
     "isComponent": false,
     "name": "",
     "parents": []
    },
    "tags": []
   },
   "outputs": [],
   "source": [
    "mergedResult['Period'] = pd.to_datetime(mergedResult['order_purchase_timestamp_min']) - pd.to_datetime(mergedResult['won_date']) \n",
    "mergedResult.head()\n",
    "mergedResult['Period'] = mergedResult['Period'].dt.days\n",
    "yesResult = mergedResult[mergedResult['Period'].notna()]\n"
   ]
  },
  {
   "cell_type": "code",
   "execution_count": 132,
   "id": "d58116c7-0a35-4784-902f-7159c7c61fcf",
   "metadata": {
    "canvas": {
     "comments": [],
     "componentType": "CodeCell",
     "copiedOriginId": null,
     "diskcache": false,
     "headerColor": "transparent",
     "id": "b2e7400e-2197-4a6f-ada2-289dc616fe02",
     "isComponent": false,
     "name": "",
     "parents": []
    },
    "tags": []
   },
   "outputs": [
    {
     "data": {
      "image/png": "[encoded data removed]",
      "text/plain": [
       "<Figure size 640x480 with 1 Axes>"
      ]
     },
     "metadata": {},
     "output_type": "display_data"
    },
    {
     "data": {
      "text/html": [
       "<div>\n",
       "<style scoped>\n",
       "    .dataframe tbody tr th:only-of-type {\n",
       "        vertical-align: middle;\n",
       "    }\n",
       "\n",
       "    .dataframe tbody tr th {\n",
       "        vertical-align: top;\n",
       "    }\n",
       "\n",
       "    .dataframe thead th {\n",
       "        text-align: right;\n",
       "    }\n",
       "</style>\n",
       "<table border=\"1\" class=\"dataframe\">\n",
       "  <thead>\n",
       "    <tr style=\"text-align: right;\">\n",
       "      <th></th>\n",
       "      <th>mql_id</th>\n",
       "      <th>seller_id</th>\n",
       "      <th>won_date</th>\n",
       "      <th>product_category_name_english</th>\n",
       "      <th>order_purchase_timestamp_min</th>\n",
       "      <th>order_purchase_timestamp_max</th>\n",
       "      <th>Period</th>\n",
       "    </tr>\n",
       "  </thead>\n",
       "  <tbody>\n",
       "    <tr>\n",
       "      <th>0</th>\n",
       "      <td>5420aad7fec3549a85876ba1c529bd84</td>\n",
       "      <td>2c43fb513632d29b3b58df74816f1b06</td>\n",
       "      <td>2018-02-26 19:58</td>\n",
       "      <td>garden_tools</td>\n",
       "      <td>2018-07-23 20:50:50</td>\n",
       "      <td>2018-07-23 20:50:50</td>\n",
       "      <td>147.0</td>\n",
       "    </tr>\n",
       "    <tr>\n",
       "      <th>1</th>\n",
       "      <td>5420aad7fec3549a85876ba1c529bd84</td>\n",
       "      <td>2c43fb513632d29b3b58df74816f1b06</td>\n",
       "      <td>2018-02-26 19:58</td>\n",
       "      <td>pet_shop</td>\n",
       "      <td>2018-06-20 21:40:18</td>\n",
       "      <td>2018-06-21 15:42:55</td>\n",
       "      <td>114.0</td>\n",
       "    </tr>\n",
       "    <tr>\n",
       "      <th>3</th>\n",
       "      <td>327174d3648a2d047e8940d7d15204ca</td>\n",
       "      <td>612170e34b97004b3ba37eae81836b4c</td>\n",
       "      <td>2018-06-05 17:27</td>\n",
       "      <td>baby</td>\n",
       "      <td>2018-06-29 07:51:49</td>\n",
       "      <td>2018-07-24 21:46:29</td>\n",
       "      <td>23.0</td>\n",
       "    </tr>\n",
       "    <tr>\n",
       "      <th>4</th>\n",
       "      <td>327174d3648a2d047e8940d7d15204ca</td>\n",
       "      <td>612170e34b97004b3ba37eae81836b4c</td>\n",
       "      <td>2018-06-05 17:27</td>\n",
       "      <td>computers_accessories</td>\n",
       "      <td>2018-06-21 20:37:12</td>\n",
       "      <td>2018-08-10 19:49:38</td>\n",
       "      <td>16.0</td>\n",
       "    </tr>\n",
       "    <tr>\n",
       "      <th>5</th>\n",
       "      <td>327174d3648a2d047e8940d7d15204ca</td>\n",
       "      <td>612170e34b97004b3ba37eae81836b4c</td>\n",
       "      <td>2018-06-05 17:27</td>\n",
       "      <td>consoles_games</td>\n",
       "      <td>2018-06-11 14:32:25</td>\n",
       "      <td>2018-08-15 17:35:07</td>\n",
       "      <td>5.0</td>\n",
       "    </tr>\n",
       "  </tbody>\n",
       "</table>\n",
       "</div>"
      ],
      "text/plain": [
       "                             mql_id                         seller_id  \\\n",
       "0  5420aad7fec3549a85876ba1c529bd84  2c43fb513632d29b3b58df74816f1b06   \n",
       "1  5420aad7fec3549a85876ba1c529bd84  2c43fb513632d29b3b58df74816f1b06   \n",
       "3  327174d3648a2d047e8940d7d15204ca  612170e34b97004b3ba37eae81836b4c   \n",
       "4  327174d3648a2d047e8940d7d15204ca  612170e34b97004b3ba37eae81836b4c   \n",
       "5  327174d3648a2d047e8940d7d15204ca  612170e34b97004b3ba37eae81836b4c   \n",
       "\n",
       "           won_date product_category_name_english  \\\n",
       "0  2018-02-26 19:58                  garden_tools   \n",
       "1  2018-02-26 19:58                      pet_shop   \n",
       "3  2018-06-05 17:27                          baby   \n",
       "4  2018-06-05 17:27         computers_accessories   \n",
       "5  2018-06-05 17:27                consoles_games   \n",
       "\n",
       "  order_purchase_timestamp_min order_purchase_timestamp_max  Period  \n",
       "0          2018-07-23 20:50:50          2018-07-23 20:50:50   147.0  \n",
       "1          2018-06-20 21:40:18          2018-06-21 15:42:55   114.0  \n",
       "3          2018-06-29 07:51:49          2018-07-24 21:46:29    23.0  \n",
       "4          2018-06-21 20:37:12          2018-08-10 19:49:38    16.0  \n",
       "5          2018-06-11 14:32:25          2018-08-15 17:35:07     5.0  "
      ]
     },
     "execution_count": 132,
     "metadata": {},
     "output_type": "execute_result"
    }
   ],
   "source": [
    "import seaborn as sns\n",
    "\n",
    "# 박스플롯 그리기\n",
    "sns.boxplot(x=mergedResult['Period'])\n",
    "plt.title('계약~입점 기간 분포')\n",
    "plt.show()\n",
    "\n",
    "countResult = yesResult.groupby('product_category_name_english').size().reset_index(name='Count')\n",
    "\n",
    "countResult = countResult[countResult['product_category_name_english'].isin(top_10_categories)]\n",
    "\n",
    "yesResult.head()"
   ]
  },
  {
   "cell_type": "code",
   "execution_count": null,
   "id": "ac19541a-1412-447c-8bfb-00cb31705016",
   "metadata": {
    "canvas": {
     "comments": [],
     "componentType": "CodeCell",
     "copiedOriginId": null,
     "diskcache": false,
     "headerColor": "transparent",
     "id": "bd1f0c2c-1852-4843-a097-cf810d15fe39",
     "isComponent": false,
     "name": "",
     "parents": []
    }
   },
   "outputs": [],
   "source": []
  }
 ],
 "metadata": {
  "canvas": {
   "colorPalette": [
    "inherit",
    "inherit",
    "inherit",
    "inherit",
    "inherit",
    "inherit",
    "inherit",
    "inherit",
    "inherit",
    "inherit"
   ],
   "parameters": [],
   "version": "1.0"
  },
  "kernelspec": {
   "display_name": "Python 3 (ipykernel)",
   "language": "python",
   "name": "python3"
  },
  "language_info": {
   "codemirror_mode": {
    "name": "ipython",
    "version": 3
   },
   "file_extension": ".py",
   "mimetype": "text/x-python",
   "name": "python",
   "nbconvert_exporter": "python",
   "pygments_lexer": "ipython3",
   "version": "3.9.18"
  }
 },
 "nbformat": 4,
 "nbformat_minor": 5
}
